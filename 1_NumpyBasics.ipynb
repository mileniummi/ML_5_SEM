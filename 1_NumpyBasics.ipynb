{
  "nbformat": 4,
  "nbformat_minor": 0,
  "metadata": {
    "colab": {
      "name": "1.NumpyBasics.ipynb",
      "provenance": [],
      "collapsed_sections": []
    },
    "kernelspec": {
      "display_name": "Python 3",
      "language": "python",
      "name": "python3"
    },
    "language_info": {
      "codemirror_mode": {
        "name": "ipython",
        "version": 3
      },
      "file_extension": ".py",
      "mimetype": "text/x-python",
      "name": "python",
      "nbconvert_exporter": "python",
      "pygments_lexer": "ipython3",
      "version": "3.7.4"
    }
  },
  "cells": [
    {
      "cell_type": "markdown",
      "metadata": {
        "id": "BsNwjQDRfmLY"
      },
      "source": [
        "# Задание 1"
      ]
    },
    {
      "cell_type": "markdown",
      "metadata": {
        "id": "wu6r1-s7fmLe"
      },
      "source": [
        "---"
      ]
    },
    {
      "cell_type": "markdown",
      "metadata": {
        "id": "zxRIdPO9gYyX"
      },
      "source": [
        "Напишите программу, которая будет решать систему линейных уравнений вида:\n",
        "\n",
        "\\begin{matrix} a_{11}x+a_{12}y=b_{1}&(1) \\\\ a_{21}x+a_{22}y=b_{2} &(2) \\end{matrix}\n",
        "​\t\n",
        "На вход программа должна принимать 2 строки.\n",
        "\n",
        "Каждая строка содержит 3 действительных числа через пробел: коэффициенты a и b.\n",
        "\n",
        "На выходе программа должна выдавать значения x и y в одну строку через пробел.\n",
        " \n",
        "\n",
        "Примечание 1. Для разделения строки на отдельные элементы используйте функцию split()\n",
        "\n",
        "Примечание 2. В качестве разделителя между целой и дробной частью используйте точку, например 0.2"
      ]
    },
    {
      "cell_type": "code",
      "metadata": {
        "id": "6sxlcLbVlrjl",
        "colab": {
          "base_uri": "https://localhost:8080/"
        },
        "outputId": "b3d6887a-68a9-4388-9d71-de6b72c59c0a"
      },
      "source": [
        "import numpy as np\n",
        "\n",
        "\n",
        "def linan(line1: str, line2: str):\n",
        "    try:\n",
        "        a11, a12, b1 = line1.split()\n",
        "        a21, a22, b2 = line2.split()\n",
        "\n",
        "        M1 = np.array([[float(a11), float(a12)], [float(a21), float(a22)]])\n",
        "        V1 = np.array([float(b1), float(b2)])\n",
        "\n",
        "        ans = np.linalg.solve(M1, V1)\n",
        "        print(ans[0], ans[1])\n",
        "    except Exception as ex:\n",
        "        print(ex)\n",
        "\n",
        "\n",
        "linan(\"1 2 4\", \"1 3 5.5\")\n"
      ],
      "execution_count": null,
      "outputs": [
        {
          "output_type": "stream",
          "name": "stdout",
          "text": [
            "1.0 1.5\n"
          ]
        }
      ]
    },
    {
      "cell_type": "markdown",
      "metadata": {
        "id": "wLoVDMQnfmOv"
      },
      "source": [
        "# Задание 2"
      ]
    },
    {
      "cell_type": "markdown",
      "metadata": {
        "id": "6bmt_YF3fmOw"
      },
      "source": [
        "Напишите функцию `decorate_matrix`, которая получает на вход одно целое число больше единицы. Функция должна возвращать матрицу n на n, у которой на границах стоят единицы, а на всех остальных позициях(если остались позиции не на границах) стоят нули.\n",
        "\n",
        "Нужно сделать без использования  циклов.\n",
        "\n",
        "```\n",
        "# ожидаемый резальтат для аргумента 5\n",
        "array([[1., 1., 1., 1., 1.],\n",
        "[1., 0., 0., 0., 1.],\n",
        "[1., 0., 0., 0., 1.],\n",
        "[1., 0., 0., 0., 1.],\n",
        "[1., 1., 1., 1., 1.]])\n",
        "```\n",
        "\n"
      ]
    },
    {
      "cell_type": "code",
      "metadata": {
        "colab": {
          "base_uri": "https://localhost:8080/"
        },
        "id": "BTVSZP10Gb-k",
        "outputId": "b652301e-5f84-44d2-b468-d29ec26d0660"
      },
      "source": [
        "import numpy as np\n",
        "\n",
        "def decorate_matrix(n: int):\n",
        "    if n <= 0:\n",
        "        raise ValueError(\"n must be greater or equal than 0\")\n",
        "    x = np.eye(n, k=n - 1)\n",
        "    x[0, :] = 1\n",
        "    x[n - 1, :] = 1\n",
        "    x[:, 0] = 1\n",
        "    x[:, n - 1] = 1\n",
        "    return x\n",
        "\n",
        "print(decorate_matrix(5))"
      ],
      "execution_count": null,
      "outputs": [
        {
          "output_type": "stream",
          "name": "stdout",
          "text": [
            "[[1. 1. 1. 1. 1.]\n",
            " [1. 0. 0. 0. 1.]\n",
            " [1. 0. 0. 0. 1.]\n",
            " [1. 0. 0. 0. 1.]\n",
            " [1. 1. 1. 1. 1.]]\n"
          ]
        }
      ]
    },
    {
      "cell_type": "markdown",
      "metadata": {
        "id": "75sxny1zSCbl"
      },
      "source": [
        "# Задание 3"
      ]
    },
    {
      "cell_type": "markdown",
      "metadata": {
        "id": "2Xq1tBBAS5UJ"
      },
      "source": [
        "1) реализуйте 2 функции:\n",
        "\n",
        "$f(x) = (x+a)^2 - b$ \n",
        "\n",
        "$g(x) = |f(x)|$\n",
        "\n",
        "2) Найдите аргументы, при которых достигается минимум функций $f(x)$ и $g(x)$\n",
        "\n",
        "Пример. \n",
        "Входные значение: $a=3$ и $b=4$\n",
        "\n",
        "Выходные значения:\n",
        "\n",
        "`-3.0 -1.0`"
      ]
    },
    {
      "cell_type": "code",
      "metadata": {
        "colab": {
          "base_uri": "https://localhost:8080/"
        },
        "id": "yOuTQTJTsQdk",
        "outputId": "da382e33-afcb-4ab8-c7c7-93d0a8dbc472"
      },
      "source": [
        "import numpy as np\n",
        "from scipy.optimize import minimize\n",
        "\n",
        "def find_min(a: int, b: int):\n",
        "    def f(x: float):\n",
        "        return (x + a) ** 2 - b\n",
        "\n",
        "    def g(x: float):\n",
        "        return np.abs((x + a) ** 2 - b)\n",
        "\n",
        "    f_min = minimize(f, np.array(0), method='Powell')[\"x\"]\n",
        "    g_min = minimize(g, np.array(0), method='Powell')[\"x\"]\n",
        "    return float('{:.2}'.format(f_min)),float('{:.2}'.format(g_min))\n",
        "\n",
        "print(find_min(3, 4))"
      ],
      "execution_count": null,
      "outputs": [
        {
          "output_type": "stream",
          "name": "stdout",
          "text": [
            "(-3.0, -1.0)\n"
          ]
        }
      ]
    },
    {
      "cell_type": "markdown",
      "metadata": {
        "id": "efml9GzISC9Q"
      },
      "source": [
        "# Задание 4"
      ]
    },
    {
      "cell_type": "markdown",
      "metadata": {
        "id": "SDZvKcsTVbAW"
      },
      "source": [
        "Постройте графики для функций из предыдущего задания и отметьте другим цветом на графиках точки найденных минимумов."
      ]
    },
    {
      "cell_type": "code",
      "metadata": {
        "colab": {
          "base_uri": "https://localhost:8080/",
          "height": 353
        },
        "id": "BK19FQRl5TlH",
        "outputId": "f550f303-9a79-4a90-d345-9460ab971087"
      },
      "source": [
        "import numpy as np\n",
        "from scipy.optimize import minimize\n",
        "import matplotlib.pyplot as plt\n",
        "\n",
        "\n",
        "def find_min(a: int, b: int):\n",
        "    def f(x: float):\n",
        "        return (x + a) ** 2 - b\n",
        "\n",
        "    def g(x: float):\n",
        "        return np.abs((x + a) ** 2 - b)\n",
        "\n",
        "    f_min = minimize(f, np.array(0), method='Powell')[\"x\"]\n",
        "    g_min = minimize(g, np.array(0), method='Powell')[\"x\"]\n",
        "\n",
        "    fig, (ax1, ax2) = plt.subplots(nrows=1, ncols=2, figsize=(10, 5))\n",
        "    # данные\n",
        "    x1 = np.arange(f_min - 10, f_min + 10, 0.1)\n",
        "    y1 = [f(i) for i in x1]\n",
        "    x2 = np.arange(g_min - 10, g_min + 10, 0.1)\n",
        "    y2 = [g(i) for i in x2]\n",
        "    # построение\n",
        "    ax1.plot(x1, y1)\n",
        "    ax1.plot(f_min, f(f_min), 'ro')\n",
        "    ax1.set_title(\"f(x)\")\n",
        "    ax2.plot(x2, y2)\n",
        "    ax2.plot(g_min, g(g_min), 'ro')\n",
        "    ax2.set_title(\"g(x)\")\n",
        "    plt.show()\n",
        "    return float('{:.2}'.format(f_min)), float('{:.2}'.format(g_min))\n",
        "\n",
        "\n",
        "print(find_min(3, 4))\n"
      ],
      "execution_count": null,
      "outputs": [
        {
          "output_type": "display_data",
          "data": {
            "image/png": "[encoded data removed]",
            "text/plain": [
              "<Figure size 720x360 with 2 Axes>"
            ]
          },
          "metadata": {
            "needs_background": "light"
          }
        },
        {
          "output_type": "stream",
          "name": "stdout",
          "text": [
            "(-3.0, -1.0)\n"
          ]
        }
      ]
    },
    {
      "cell_type": "markdown",
      "metadata": {
        "id": "mrby3EfiSDKJ"
      },
      "source": [
        "# Задание 5"
      ]
    },
    {
      "cell_type": "markdown",
      "metadata": {
        "id": "J6AZ8785VkQd"
      },
      "source": [
        "1000 человек бросают монетку. Каждый бросил 10 раз подряд.\n",
        "\n",
        " 1. Какова вероятность того, что хотя бы у одного человека монетка выпала 10 раз подряд той же самой стороной (орлом или решкой)? \n",
        " 2. Какова вероятность того, что хотя бы у одного человека монетка выпала 8 раз подряд той же самой стороной (орлом или решкой)? \n",
        " 3. Какова вероятность того, что ровно у троих человек из 1000 монетка выпала 10 раз подряд той же самой стороной (орлом или решкой)?"
      ]
    },
    {
      "cell_type": "code",
      "metadata": {
        "colab": {
          "base_uri": "https://localhost:8080/"
        },
        "id": "MRXejZW_D57r",
        "outputId": "dd34f67f-cfe1-4d40-f5a0-bb841bad8279"
      },
      "source": [
        "import numpy as np\n",
        "\n",
        "\n",
        "def solve():\n",
        "    A = 0\n",
        "    B = 0\n",
        "    C = 0\n",
        "    for _ in range(10000):# повторяем 10 000 раз для точности оценки \n",
        "        success = 0\n",
        "        for _ in range(1000): # 1000 человек\n",
        "            a_count = 0\n",
        "            for i in range(10): # 10 раз подряд\n",
        "                if i > 0 and 0 < a_count < i:\n",
        "                    break\n",
        "                a = np.random.randint(2) # бросают монету\n",
        "                a_count += a\n",
        "            if a_count == 10 or a_count == 0: # если 10 раз выпала решка(1) или орел (0)\n",
        "                success = 1 \n",
        "            if success == 1:\n",
        "                A += 1 # то да 1 из 1000 точно везунчик\n",
        "                break\n",
        "\n",
        "        success = 0\n",
        "        for _ in range(1000):# 1000 человек\n",
        "            a = np.random.randint(2)\n",
        "            count = 0\n",
        "            for i in range(10):# 10 раз подряд\n",
        "                if i == 3 and count == 0:\n",
        "                    break\n",
        "                a_prev = a\n",
        "                a = np.random.randint(2) # бросают монету\n",
        "                if a_prev == a:\n",
        "                    count += 1\n",
        "                else:\n",
        "                    count = 0\n",
        "                if count == 8:# если 8 раз выпала решка(1) или орел (0)\n",
        "                    success += 1\n",
        "                    break\n",
        "            if success == 1:\n",
        "                B += 1 # то да 1 из 1000 точно везунчик\n",
        "                break\n",
        "\n",
        "        success = 0\n",
        "        for _ in range(1000):# 1000 человек\n",
        "            a_count = 0\n",
        "            for i in range(10):# 10 раз подряд\n",
        "                if i > 0 and 0 < a_count < i:\n",
        "                    break\n",
        "                a = np.random.randint(2) # бросают монету\n",
        "                a_count += a\n",
        "            if a_count == 10 or a_count == 0: # если 10 раз выпала решка(1) или орел (0)\n",
        "                success += 1\n",
        "            if success == 4:\n",
        "                break\n",
        "        if success == 3:# и их ровно 3 \n",
        "            C += 1 # значит из 1000 человек у нас ровно 3 везунчика\n",
        "    print('Вероятность того, что хотя бы у одного человека монетка выпала'\n",
        "          ' 10 раз подряд той же самой стороной (орлом или решкой)', A / 10000)\n",
        "    print('Вероятность того, что хотя бы у одного человека монетка выпала '\n",
        "          '  8 раз подряд той же самой стороной (орлом или решкой)', B / 10000)\n",
        "    print('Вероятность того, что ровно у троих человек из 1000 монетка выпала'\n",
        "          ' 10 раз подряд той же самой стороной (орлом или решкой)', C / 10000)\n",
        "\n",
        "\n",
        "solve()\n"
      ],
      "execution_count": null,
      "outputs": [
        {
          "output_type": "stream",
          "name": "stdout",
          "text": [
            "Вероятность того, что хотя бы у одного человека монетка выпала 10 раз подряд той же самой стороной (орлом или решкой) 0.8615\n",
            "Вероятность того, что хотя бы у одного человека монетка выпала   8 раз подряд той же самой стороной (орлом или решкой) 0.9996\n",
            "Вероятность того, что ровно у троих человек из 1000 монетка выпала 10 раз подряд той же самой стороной (орлом или решкой) 0.176\n"
          ]
        }
      ]
    }
  ]
}