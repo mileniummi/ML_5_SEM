{
  "nbformat": 4,
  "nbformat_minor": 0,
  "metadata": {
    "colab": {
      "name": "2.PandasBasics.ipynb",
      "provenance": [],
      "collapsed_sections": [
        "oP3lX9xC8Jd8"
      ]
    },
    "hide_input": false,
    "kernelspec": {
      "display_name": "Python 3",
      "language": "python",
      "name": "python3"
    },
    "language_info": {
      "codemirror_mode": {
        "name": "ipython",
        "version": 3
      },
      "file_extension": ".py",
      "mimetype": "text/x-python",
      "name": "python",
      "nbconvert_exporter": "python",
      "pygments_lexer": "ipython3",
      "version": "3.7.1"
    },
    "toc": {
      "base_numbering": 1,
      "nav_menu": {},
      "number_sections": true,
      "sideBar": true,
      "skip_h1_title": false,
      "title_cell": "Table of Contents",
      "title_sidebar": "Contents",
      "toc_cell": true,
      "toc_position": {},
      "toc_section_display": true,
      "toc_window_display": false
    },
    "varInspector": {
      "cols": {
        "lenName": 16,
        "lenType": 16,
        "lenVar": 40
      },
      "kernels_config": {
        "python": {
          "delete_cmd_postfix": "",
          "delete_cmd_prefix": "del ",
          "library": "var_list.py",
          "varRefreshCmd": "print(var_dic_list())"
        },
        "r": {
          "delete_cmd_postfix": ") ",
          "delete_cmd_prefix": "rm(",
          "library": "var_list.r",
          "varRefreshCmd": "cat(var_dic_list()) "
        }
      },
      "types_to_exclude": [
        "module",
        "function",
        "builtin_function_or_method",
        "instance",
        "_Feature"
      ],
      "window_display": false
    }
  },
  "cells": [
    {
      "cell_type": "code",
      "metadata": {
        "id": "bZ7J0si68JdT"
      },
      "source": [
        "import pandas as pd\n",
        "import numpy as np\n",
        "pd.options.display.float_format ='{:.5f}'.format"
      ],
      "execution_count": null,
      "outputs": []
    },
    {
      "cell_type": "markdown",
      "metadata": {
        "id": "xjvL0IIG8Jd0"
      },
      "source": [
        "## Задание 0\n",
        "\n",
        "*   Новый пункт\n",
        "*   Новый пункт\n",
        "\n",
        "\n"
      ]
    },
    {
      "cell_type": "markdown",
      "metadata": {
        "id": "yaSxXHvxO0qo"
      },
      "source": [
        "Для всех  заданий будем использовать обезличенные транзакционные банковские данные. Для этого считайте в переменные **tr_mcc_codes, tr_types, transactions и gender_train** из одноимённых таблиц из папки [data](https://drive.google.com/drive/folders/1YAMe7MiTxA-RSSd8Ex2p-L0Dspe6Gs4L). \n",
        "\n",
        "Для таблицы transactions используйте только первые n=1000000 строк. При чтении файлов обратите внимание на разделители внутри каждого из файлов - они могут различаться!"
      ]
    },
    {
      "cell_type": "code",
      "metadata": {
        "id": "OQP67xgYfAfa"
      },
      "source": [
        "%%capture\n",
        "!wget https://www.dropbox.com/s/axkihywa8q118rk/transactions.csv\n",
        "!wget https://www.dropbox.com/s/xwbkjwik600clsh/tr_mcc_codes.csv\n",
        "!wget https://www.dropbox.com/s/5deipwkmeial1ba/tr_types.csv\n",
        "!wget https://www.dropbox.com/s/qc307hdkc9jdxf8/gender_train.csv\n",
        "\n",
        "transactions = pd.read_csv('transactions.csv', nrows = 1000000)\n",
        "tr_mcc_codes = pd.read_csv('tr_mcc_codes.csv', sep=';')\n",
        "gender_train = pd.read_csv('gender_train.csv')\n",
        "tr_types = pd.read_csv('tr_types.csv',sep=';')\n"
      ],
      "execution_count": null,
      "outputs": []
    },
    {
      "cell_type": "code",
      "source": [
        "display(tr_mcc_codes.head())"
      ],
      "metadata": {
        "id": "b4ksnltItuAX",
        "outputId": "adc6cf0a-341e-4145-f2e8-83ced15a881b",
        "colab": {
          "base_uri": "https://localhost:8080/",
          "height": 165
        }
      },
      "execution_count": null,
      "outputs": [
        {
          "output_type": "error",
          "ename": "NameError",
          "evalue": "ignored",
          "traceback": [
            "\u001b[0;31m---------------------------------------------------------------------------\u001b[0m",
            "\u001b[0;31mNameError\u001b[0m                                 Traceback (most recent call last)",
            "\u001b[0;32m<ipython-input-1-5f888c3c715f>\u001b[0m in \u001b[0;36m<module>\u001b[0;34m()\u001b[0m\n\u001b[0;32m----> 1\u001b[0;31m \u001b[0mdisplay\u001b[0m\u001b[0;34m(\u001b[0m\u001b[0mtr_mcc_codes\u001b[0m\u001b[0;34m.\u001b[0m\u001b[0mhead\u001b[0m\u001b[0;34m(\u001b[0m\u001b[0;34m)\u001b[0m\u001b[0;34m)\u001b[0m\u001b[0;34m\u001b[0m\u001b[0;34m\u001b[0m\u001b[0m\n\u001b[0m",
            "\u001b[0;31mNameError\u001b[0m: name 'tr_mcc_codes' is not defined"
          ]
        }
      ]
    },
    {
      "cell_type": "markdown",
      "metadata": {
        "id": "oP3lX9xC8Jd8"
      },
      "source": [
        "###  Описание данных\n",
        "#### Таблица ```transactions.csv```\n",
        "##### Описание\n",
        "Таблица содержит историю транзакций клиентов банка за один год и три месяца.\n",
        "\n",
        "##### Формат данных\n",
        "\n",
        "```\n",
        "customer_id,tr_datetime,mcc_code,tr_type,amount,term_id\n",
        "111111,15 01:40:52,1111,1000,-5224,111111\n",
        "111112,15 15:18:32,3333,2000,-100,11122233\n",
        "...\n",
        "```\n",
        "##### Описание полей\n",
        "\n",
        " - ```customer_id``` — идентификатор клиента;\n",
        " - ```tr_datetime``` — день и время совершения транзакции (дни нумеруются с начала данных);\n",
        " - ```mcc_code``` — mcc-код транзакции;\n",
        " - ```tr_type``` — тип транзакции;\n",
        " - ```amount``` — сумма транзакции в условных единицах со знаком; ```+``` — начисление средств клиенту (приходная транзакция), ```-``` — списание средств (расходная транзакция);\n",
        " - ```term_id``` — идентификатор терминала;\n",
        "\n",
        "\n",
        "#### Таблица ```gender_train.csv```\n",
        "\n",
        "##### Описание\n",
        "Данная таблица содержит информацию по полу для части клиентов, для которых он известен. Для остальных клиентов пол неизвестен.\n",
        "\n",
        "##### Формат данных\n",
        "```\n",
        "customer_id,gender\n",
        "111111,0\n",
        "111112,1\n",
        "...\n",
        "```\n",
        "\n",
        "##### Описание полей\n",
        " - ```customer_id``` — идентификатор клиента;\n",
        " - ```gender``` — пол клиента;\n",
        "\n",
        "### Таблица ```tr_mcc_codes.csv```\n",
        "\n",
        "##### Описание\n",
        "Данная таблица содержит описание mcc-кодов транзакций.\n",
        "\n",
        "##### Формат данных\n",
        "```\n",
        "mcc_code;mcc_description\n",
        "1000;словесное описание mcc-кода 1000\n",
        "2000;словесное описание mcc-кода 2000\n",
        "...\n",
        "```\n",
        "\n",
        "##### Описание полей\n",
        " - ```mcc_code``` – mcc-код транзакции;\n",
        " - ```mcc_description``` — описание mcc-кода транзакции.\n",
        "\n",
        "#### Таблица ```tr_types.csv```\n",
        "\n",
        "##### Описание\n",
        "Данная таблица содержит описание типов транзакций.\n",
        "\n",
        "##### Формат данных\n",
        "```\n",
        "tr_type;tr_description\n",
        "1000;словесное описание типа транзакции 1000\n",
        "2000;словесное описание типа транзакции 2000\n",
        "...\n",
        "```\n",
        "\n",
        "##### Описание полей\n",
        " - ```tr_type``` – тип транзакции;\n",
        " - ```tr_description``` — описание типа транзакции;"
      ]
    },
    {
      "cell_type": "markdown",
      "metadata": {
        "id": "04CYsBKz8JeB"
      },
      "source": [
        "## Задание 1\n",
        "\n"
      ]
    },
    {
      "cell_type": "markdown",
      "metadata": {
        "id": "1hcrfwsYN_Yz"
      },
      "source": [
        "1. Для столбца tr_type датафрейма transactions выберите произвольные 1000 строк с помощью метода sample\n",
        "2. В полученной на предыдущем этапе подвыборке найдите долю транзакций (стобец tr_description в датасете tr_types), в которой содержится подстрока 'POS' или 'ATM'\n",
        "\n",
        "Без использования merge!"
      ]
    },
    {
      "cell_type": "code",
      "metadata": {
        "colab": {
          "base_uri": "https://localhost:8080/"
        },
        "id": "isegT05Xl-Dn",
        "outputId": "6860bc79-bce5-47eb-d498-7da08d5d7b47"
      },
      "source": [
        "\n",
        "tr_type_POS_ATM = tr_types['tr_type'][( tr_types['tr_description'].str.contains(\"АТМ\")) | ( tr_types['tr_description'].str.contains(\"POS\"))]\n",
        "transactions_sample = transactions['tr_type'].sample(1000)\n",
        "\n",
        "POS_ATM_count = transactions_sample.isin(tr_type_POS_ATM).value_counts()[True]\n",
        "print('Доля транзакций в которой содержится подстрока POS или ATM')\n",
        "print(POS_ATM_count / 1000)"
      ],
      "execution_count": null,
      "outputs": [
        {
          "output_type": "stream",
          "name": "stdout",
          "text": [
            "Доля транзакций в которой содержится подстрока POS или ATM\n",
            "0.639\n"
          ]
        }
      ]
    },
    {
      "cell_type": "markdown",
      "metadata": {
        "id": "fiZBDIZt8JeS"
      },
      "source": [
        "## Задание 2 \n"
      ]
    },
    {
      "cell_type": "markdown",
      "metadata": {
        "id": "FFKeBUThOCrz"
      },
      "source": [
        "1. Для столбца tr_type датафрейма transactions посчитайте частоту встречаемости всех типов транзакций tr_type в transactions.\n",
        "2. Выведите топ-10 транзакций по частоте встречаемости (вывести для них tr_description тоже)."
      ]
    },
    {
      "cell_type": "code",
      "metadata": {
        "colab": {
          "base_uri": "https://localhost:8080/",
          "height": 606
        },
        "id": "miLAnes6Igzk",
        "outputId": "3fb3e510-4d37-4eea-8f32-436989a026d5"
      },
      "source": [
        "tr_type_number_count = transactions.groupby('tr_type').size().reset_index(name='counts')\n",
        "display(tr_type_number_count)\n",
        "top_10_tr_types = tr_type_number_count.nlargest(10, 'counts')['tr_type'].to_list()\n",
        "print('Tоп-10 транзакций по частоте встречаемости')\n",
        "for i in top_10_tr_types:\n",
        "  description = tr_types[(tr_types['tr_type'] == i) & ( tr_types['tr_description'])].iloc[0]['tr_description']\n",
        "  print(i, \" \", description)"
      ],
      "execution_count": null,
      "outputs": [
        {
          "output_type": "display_data",
          "data": {
            "text/html": [
              "<div>\n",
              "<style scoped>\n",
              "    .dataframe tbody tr th:only-of-type {\n",
              "        vertical-align: middle;\n",
              "    }\n",
              "\n",
              "    .dataframe tbody tr th {\n",
              "        vertical-align: top;\n",
              "    }\n",
              "\n",
              "    .dataframe thead th {\n",
              "        text-align: right;\n",
              "    }\n",
              "</style>\n",
              "<table border=\"1\" class=\"dataframe\">\n",
              "  <thead>\n",
              "    <tr style=\"text-align: right;\">\n",
              "      <th></th>\n",
              "      <th>tr_type</th>\n",
              "      <th>counts</th>\n",
              "    </tr>\n",
              "  </thead>\n",
              "  <tbody>\n",
              "    <tr>\n",
              "      <th>0</th>\n",
              "      <td>1000</td>\n",
              "      <td>8</td>\n",
              "    </tr>\n",
              "    <tr>\n",
              "      <th>1</th>\n",
              "      <td>1010</td>\n",
              "      <td>231117</td>\n",
              "    </tr>\n",
              "    <tr>\n",
              "      <th>2</th>\n",
              "      <td>1030</td>\n",
              "      <td>118975</td>\n",
              "    </tr>\n",
              "    <tr>\n",
              "      <th>3</th>\n",
              "      <td>1100</td>\n",
              "      <td>15476</td>\n",
              "    </tr>\n",
              "    <tr>\n",
              "      <th>4</th>\n",
              "      <td>1110</td>\n",
              "      <td>137658</td>\n",
              "    </tr>\n",
              "    <tr>\n",
              "      <th>...</th>\n",
              "      <td>...</td>\n",
              "      <td>...</td>\n",
              "    </tr>\n",
              "    <tr>\n",
              "      <th>67</th>\n",
              "      <td>7074</td>\n",
              "      <td>505</td>\n",
              "    </tr>\n",
              "    <tr>\n",
              "      <th>68</th>\n",
              "      <td>7075</td>\n",
              "      <td>12</td>\n",
              "    </tr>\n",
              "    <tr>\n",
              "      <th>69</th>\n",
              "      <td>8100</td>\n",
              "      <td>2</td>\n",
              "    </tr>\n",
              "    <tr>\n",
              "      <th>70</th>\n",
              "      <td>8145</td>\n",
              "      <td>8</td>\n",
              "    </tr>\n",
              "    <tr>\n",
              "      <th>71</th>\n",
              "      <td>8146</td>\n",
              "      <td>3</td>\n",
              "    </tr>\n",
              "  </tbody>\n",
              "</table>\n",
              "<p>72 rows × 2 columns</p>\n",
              "</div>"
            ],
            "text/plain": [
              "    tr_type  counts\n",
              "0      1000       8\n",
              "1      1010  231117\n",
              "2      1030  118975\n",
              "3      1100   15476\n",
              "4      1110  137658\n",
              "..      ...     ...\n",
              "67     7074     505\n",
              "68     7075      12\n",
              "69     8100       2\n",
              "70     8145       8\n",
              "71     8146       3\n",
              "\n",
              "[72 rows x 2 columns]"
            ]
          },
          "metadata": {}
        },
        {
          "output_type": "stream",
          "name": "stdout",
          "text": [
            "Tоп-10 транзакций по частоте встречаемости\n",
            "1010   Покупка. POS ТУ СБ РФ\n",
            "2010   Выдача наличных в АТМ Сбербанк России\n",
            "7070   Перевод на карту (с карты) через Мобильный банк (без взимания комиссии с отправителя)\n",
            "1110   Покупка. POS ТУ Россия\n",
            "1030   Оплата услуги. Банкоматы СБ РФ\n",
            "2370   Списание с карты на карту по операции <перевода с карты на карту> через Мобильный банк (без комиссии)\n",
            "7010   Взнос наличных через АТМ (в своем тер.банке)\n",
            "7030   Перевод на карту (с карты) через АТМ (в пределах одного тер.банка)\n",
            "7071   Перевод на карту (с карты) через Мобильный банк (с взиманием комиссии с отправителя)\n",
            "1100   Покупка. ТУ  Россия\n"
          ]
        }
      ]
    },
    {
      "cell_type": "markdown",
      "metadata": {
        "id": "mktm_JeA8JeX"
      },
      "source": [
        "## Задание 3\n",
        "1. В датафрейме transactions найдите клиента с максимальной суммой приходов на карту\n",
        "2. В датафрейме transactions найдите клиента с максимальной суммой расходов по карте\n",
        "3. Найдите модуль разницы для этих клиентов между суммой расходов и суммой приходов"
      ]
    },
    {
      "cell_type": "code",
      "metadata": {
        "colab": {
          "base_uri": "https://localhost:8080/"
        },
        "id": "MCU9M6Np6J7M",
        "outputId": "9d6f5128-5347-4ef2-f88e-f3321e81f877"
      },
      "source": [
        "clients_spendings = transactions[transactions['amount'] < 0].groupby('customer_id')['amount'].sum()\n",
        "clients_earnings = transactions[transactions['amount'] > 0].groupby('customer_id')['amount'].sum()\n",
        "\n",
        "top_spending_client = clients_spendings.nsmallest(1)\n",
        "top_earnings_client = clients_earnings.nlargest(1)\n",
        "\n",
        "print(\"Клиент с максимальной суммой приходов\")\n",
        "print(top_earnings_client.to_string())\n",
        "print(\"Клиент с максимальной суммой pacходов\")\n",
        "print(top_spending_client.to_string())\n",
        "print(\"Модуль разницы для этих клиентов между суммой расходов и суммой приходов\")\n",
        "print(np.abs(top_earnings_client.values + clients_spendings[top_earnings_client.index]).to_string())\n",
        "print(np.abs(top_spending_client.values + clients_earnings[top_spending_client.index]).to_string())"
      ],
      "execution_count": null,
      "outputs": [
        {
          "output_type": "stream",
          "name": "stdout",
          "text": [
            "Клиент с максимальной суммой приходов\n",
            "customer_id\n",
            "70780820   1248114886.81002\n",
            "Клиент с максимальной суммой pacходов\n",
            "customer_id\n",
            "70780820   -1249952204.79000\n",
            "Модуль разницы для этих клиентов между суммой расходов и суммой приходов\n",
            "customer_id\n",
            "70780820   1837317.97997\n",
            "customer_id\n",
            "70780820   1837317.97997\n"
          ]
        }
      ]
    },
    {
      "cell_type": "markdown",
      "metadata": {
        "id": "BYrJ5b_E8Jee"
      },
      "source": [
        "## Задание 4\n",
        "1. Найдите среднее арифметическое и медиану по amount по всем типам транзакций из топ 10 из задания 2\n",
        "1. Найдите среднее арифметическое и медиану по amount по всем типам транзакций для клиентов из задания 3"
      ]
    },
    {
      "cell_type": "code",
      "metadata": {
        "colab": {
          "base_uri": "https://localhost:8080/",
          "height": 390
        },
        "id": "8dI8ZTlJk4M-",
        "outputId": "60429bb7-1ee6-4cd6-a40b-947c2d6fa899"
      },
      "source": [
        "# для топ 10 tr_types\n",
        "top_10_tr_type_avg = transactions[transactions['tr_type'].isin(top_10_tr_types)].groupby('tr_type')['amount'].mean()\n",
        "top_10_tr_type_med = transactions[transactions['tr_type'].isin(top_10_tr_types)].groupby('tr_type')['amount'].median()\n",
        "top_10_tr_type_avg_med = pd.concat([top_10_tr_type_avg, top_10_tr_type_med],keys=['average','median'], axis=1)\n",
        "display(top_10_tr_type_avg_med)\n"
      ],
      "execution_count": null,
      "outputs": [
        {
          "output_type": "display_data",
          "data": {
            "text/html": [
              "<div>\n",
              "<style scoped>\n",
              "    .dataframe tbody tr th:only-of-type {\n",
              "        vertical-align: middle;\n",
              "    }\n",
              "\n",
              "    .dataframe tbody tr th {\n",
              "        vertical-align: top;\n",
              "    }\n",
              "\n",
              "    .dataframe thead th {\n",
              "        text-align: right;\n",
              "    }\n",
              "</style>\n",
              "<table border=\"1\" class=\"dataframe\">\n",
              "  <thead>\n",
              "    <tr style=\"text-align: right;\">\n",
              "      <th></th>\n",
              "      <th>average</th>\n",
              "      <th>median</th>\n",
              "    </tr>\n",
              "    <tr>\n",
              "      <th>tr_type</th>\n",
              "      <th></th>\n",
              "      <th></th>\n",
              "    </tr>\n",
              "  </thead>\n",
              "  <tbody>\n",
              "    <tr>\n",
              "      <th>1010</th>\n",
              "      <td>-19784.74864</td>\n",
              "      <td>-7411.52000</td>\n",
              "    </tr>\n",
              "    <tr>\n",
              "      <th>1030</th>\n",
              "      <td>-5320.98022</td>\n",
              "      <td>-2245.92000</td>\n",
              "    </tr>\n",
              "    <tr>\n",
              "      <th>1100</th>\n",
              "      <td>-44061.82726</td>\n",
              "      <td>-10188.26000</td>\n",
              "    </tr>\n",
              "    <tr>\n",
              "      <th>1110</th>\n",
              "      <td>-32119.33037</td>\n",
              "      <td>-11207.57000</td>\n",
              "    </tr>\n",
              "    <tr>\n",
              "      <th>2010</th>\n",
              "      <td>-136077.62933</td>\n",
              "      <td>-44918.32000</td>\n",
              "    </tr>\n",
              "    <tr>\n",
              "      <th>2370</th>\n",
              "      <td>-205418.24903</td>\n",
              "      <td>-44918.32000</td>\n",
              "    </tr>\n",
              "    <tr>\n",
              "      <th>7010</th>\n",
              "      <td>276391.78960</td>\n",
              "      <td>112295.79000</td>\n",
              "    </tr>\n",
              "    <tr>\n",
              "      <th>7030</th>\n",
              "      <td>86104.33291</td>\n",
              "      <td>13951.52000</td>\n",
              "    </tr>\n",
              "    <tr>\n",
              "      <th>7070</th>\n",
              "      <td>65569.83170</td>\n",
              "      <td>11319.42000</td>\n",
              "    </tr>\n",
              "    <tr>\n",
              "      <th>7071</th>\n",
              "      <td>66806.82662</td>\n",
              "      <td>3593.47000</td>\n",
              "    </tr>\n",
              "  </tbody>\n",
              "</table>\n",
              "</div>"
            ],
            "text/plain": [
              "              average       median\n",
              "tr_type                           \n",
              "1010     -19784.74864  -7411.52000\n",
              "1030      -5320.98022  -2245.92000\n",
              "1100     -44061.82726 -10188.26000\n",
              "1110     -32119.33037 -11207.57000\n",
              "2010    -136077.62933 -44918.32000\n",
              "2370    -205418.24903 -44918.32000\n",
              "7010     276391.78960 112295.79000\n",
              "7030      86104.33291  13951.52000\n",
              "7070      65569.83170  11319.42000\n",
              "7071      66806.82662   3593.47000"
            ]
          },
          "metadata": {}
        }
      ]
    },
    {
      "cell_type": "code",
      "metadata": {
        "colab": {
          "base_uri": "https://localhost:8080/",
          "height": 483
        },
        "id": "_yIDwmGXrh7T",
        "outputId": "4435226f-b42f-4ccd-8e70-267b8f9cdcaf"
      },
      "source": [
        "# для  клиента с максимальной суммой расходов\n",
        "top_spending_client_tr_types = transactions[transactions['customer_id'].isin(top_spending_client.index.to_list())]\n",
        "client_tr_types_avg = top_spending_client_tr_types.groupby('tr_type')['amount'].mean()\n",
        "client_tr_types_med = top_spending_client_tr_types.groupby('tr_type')['amount'].median()\n",
        "client_tr_types_avg_med = pd.concat([client_tr_types_avg, client_tr_types_med],keys=['average','median'], axis=1)\n",
        "display(client_tr_types_avg_med)"
      ],
      "execution_count": null,
      "outputs": [
        {
          "output_type": "display_data",
          "data": {
            "text/html": [
              "<div>\n",
              "<style scoped>\n",
              "    .dataframe tbody tr th:only-of-type {\n",
              "        vertical-align: middle;\n",
              "    }\n",
              "\n",
              "    .dataframe tbody tr th {\n",
              "        vertical-align: top;\n",
              "    }\n",
              "\n",
              "    .dataframe thead th {\n",
              "        text-align: right;\n",
              "    }\n",
              "</style>\n",
              "<table border=\"1\" class=\"dataframe\">\n",
              "  <thead>\n",
              "    <tr style=\"text-align: right;\">\n",
              "      <th></th>\n",
              "      <th>average</th>\n",
              "      <th>median</th>\n",
              "    </tr>\n",
              "    <tr>\n",
              "      <th>tr_type</th>\n",
              "      <th></th>\n",
              "      <th></th>\n",
              "    </tr>\n",
              "  </thead>\n",
              "  <tbody>\n",
              "    <tr>\n",
              "      <th>2010</th>\n",
              "      <td>-2941055.87094</td>\n",
              "      <td>-3368873.66000</td>\n",
              "    </tr>\n",
              "    <tr>\n",
              "      <th>2330</th>\n",
              "      <td>-2382398.34462</td>\n",
              "      <td>-2245915.77000</td>\n",
              "    </tr>\n",
              "    <tr>\n",
              "      <th>2370</th>\n",
              "      <td>-2218504.98709</td>\n",
              "      <td>-2245915.77000</td>\n",
              "    </tr>\n",
              "    <tr>\n",
              "      <th>6110</th>\n",
              "      <td>17562.93173</td>\n",
              "      <td>10028.01000</td>\n",
              "    </tr>\n",
              "    <tr>\n",
              "      <th>7020</th>\n",
              "      <td>14651.29074</td>\n",
              "      <td>10319.98500</td>\n",
              "    </tr>\n",
              "    <tr>\n",
              "      <th>7021</th>\n",
              "      <td>28500.67000</td>\n",
              "      <td>28500.67000</td>\n",
              "    </tr>\n",
              "    <tr>\n",
              "      <th>7030</th>\n",
              "      <td>14061.95524</td>\n",
              "      <td>8848.91000</td>\n",
              "    </tr>\n",
              "    <tr>\n",
              "      <th>7031</th>\n",
              "      <td>19210.35845</td>\n",
              "      <td>12992.62000</td>\n",
              "    </tr>\n",
              "    <tr>\n",
              "      <th>7034</th>\n",
              "      <td>14306.48000</td>\n",
              "      <td>14306.48000</td>\n",
              "    </tr>\n",
              "    <tr>\n",
              "      <th>7040</th>\n",
              "      <td>21538.33200</td>\n",
              "      <td>14396.32000</td>\n",
              "    </tr>\n",
              "    <tr>\n",
              "      <th>7070</th>\n",
              "      <td>13848.20523</td>\n",
              "      <td>8714.15000</td>\n",
              "    </tr>\n",
              "    <tr>\n",
              "      <th>7071</th>\n",
              "      <td>18600.57201</td>\n",
              "      <td>12543.44000</td>\n",
              "    </tr>\n",
              "    <tr>\n",
              "      <th>7074</th>\n",
              "      <td>22811.59308</td>\n",
              "      <td>9387.93000</td>\n",
              "    </tr>\n",
              "  </tbody>\n",
              "</table>\n",
              "</div>"
            ],
            "text/plain": [
              "               average         median\n",
              "tr_type                              \n",
              "2010    -2941055.87094 -3368873.66000\n",
              "2330    -2382398.34462 -2245915.77000\n",
              "2370    -2218504.98709 -2245915.77000\n",
              "6110       17562.93173    10028.01000\n",
              "7020       14651.29074    10319.98500\n",
              "7021       28500.67000    28500.67000\n",
              "7030       14061.95524     8848.91000\n",
              "7031       19210.35845    12992.62000\n",
              "7034       14306.48000    14306.48000\n",
              "7040       21538.33200    14396.32000\n",
              "7070       13848.20523     8714.15000\n",
              "7071       18600.57201    12543.44000\n",
              "7074       22811.59308     9387.93000"
            ]
          },
          "metadata": {}
        }
      ]
    },
    {
      "cell_type": "code",
      "metadata": {
        "colab": {
          "base_uri": "https://localhost:8080/",
          "height": 483
        },
        "id": "yLPCxdNzupNB",
        "outputId": "a10dc59c-297a-4c26-e003-592fd87695f6"
      },
      "source": [
        "# для  клиента с максимальной суммой приходов(в нашем случае это один и тот же но они могут быть разными)\n",
        "top_earnings_client_tr_types = transactions[transactions['customer_id'].isin(top_earnings_client.index.to_list())]\n",
        "client_tr_types_avg = top_earnings_client_tr_types.groupby('tr_type')['amount'].mean()\n",
        "client_tr_types_med = top_earnings_client_tr_types.groupby('tr_type')['amount'].median()\n",
        "client_tr_types_avg_med = pd.concat([client_tr_types_avg, client_tr_types_med],keys=['average','median'], axis=1)\n",
        "display(client_tr_types_avg_med)"
      ],
      "execution_count": null,
      "outputs": [
        {
          "output_type": "display_data",
          "data": {
            "text/html": [
              "<div>\n",
              "<style scoped>\n",
              "    .dataframe tbody tr th:only-of-type {\n",
              "        vertical-align: middle;\n",
              "    }\n",
              "\n",
              "    .dataframe tbody tr th {\n",
              "        vertical-align: top;\n",
              "    }\n",
              "\n",
              "    .dataframe thead th {\n",
              "        text-align: right;\n",
              "    }\n",
              "</style>\n",
              "<table border=\"1\" class=\"dataframe\">\n",
              "  <thead>\n",
              "    <tr style=\"text-align: right;\">\n",
              "      <th></th>\n",
              "      <th>average</th>\n",
              "      <th>median</th>\n",
              "    </tr>\n",
              "    <tr>\n",
              "      <th>tr_type</th>\n",
              "      <th></th>\n",
              "      <th></th>\n",
              "    </tr>\n",
              "  </thead>\n",
              "  <tbody>\n",
              "    <tr>\n",
              "      <th>2010</th>\n",
              "      <td>-2941055.87094</td>\n",
              "      <td>-3368873.66000</td>\n",
              "    </tr>\n",
              "    <tr>\n",
              "      <th>2330</th>\n",
              "      <td>-2382398.34462</td>\n",
              "      <td>-2245915.77000</td>\n",
              "    </tr>\n",
              "    <tr>\n",
              "      <th>2370</th>\n",
              "      <td>-2218504.98709</td>\n",
              "      <td>-2245915.77000</td>\n",
              "    </tr>\n",
              "    <tr>\n",
              "      <th>6110</th>\n",
              "      <td>17562.93173</td>\n",
              "      <td>10028.01000</td>\n",
              "    </tr>\n",
              "    <tr>\n",
              "      <th>7020</th>\n",
              "      <td>14651.29074</td>\n",
              "      <td>10319.98500</td>\n",
              "    </tr>\n",
              "    <tr>\n",
              "      <th>7021</th>\n",
              "      <td>28500.67000</td>\n",
              "      <td>28500.67000</td>\n",
              "    </tr>\n",
              "    <tr>\n",
              "      <th>7030</th>\n",
              "      <td>14061.95524</td>\n",
              "      <td>8848.91000</td>\n",
              "    </tr>\n",
              "    <tr>\n",
              "      <th>7031</th>\n",
              "      <td>19210.35845</td>\n",
              "      <td>12992.62000</td>\n",
              "    </tr>\n",
              "    <tr>\n",
              "      <th>7034</th>\n",
              "      <td>14306.48000</td>\n",
              "      <td>14306.48000</td>\n",
              "    </tr>\n",
              "    <tr>\n",
              "      <th>7040</th>\n",
              "      <td>21538.33200</td>\n",
              "      <td>14396.32000</td>\n",
              "    </tr>\n",
              "    <tr>\n",
              "      <th>7070</th>\n",
              "      <td>13848.20523</td>\n",
              "      <td>8714.15000</td>\n",
              "    </tr>\n",
              "    <tr>\n",
              "      <th>7071</th>\n",
              "      <td>18600.57201</td>\n",
              "      <td>12543.44000</td>\n",
              "    </tr>\n",
              "    <tr>\n",
              "      <th>7074</th>\n",
              "      <td>22811.59308</td>\n",
              "      <td>9387.93000</td>\n",
              "    </tr>\n",
              "  </tbody>\n",
              "</table>\n",
              "</div>"
            ],
            "text/plain": [
              "               average         median\n",
              "tr_type                              \n",
              "2010    -2941055.87094 -3368873.66000\n",
              "2330    -2382398.34462 -2245915.77000\n",
              "2370    -2218504.98709 -2245915.77000\n",
              "6110       17562.93173    10028.01000\n",
              "7020       14651.29074    10319.98500\n",
              "7021       28500.67000    28500.67000\n",
              "7030       14061.95524     8848.91000\n",
              "7031       19210.35845    12992.62000\n",
              "7034       14306.48000    14306.48000\n",
              "7040       21538.33200    14396.32000\n",
              "7070       13848.20523     8714.15000\n",
              "7071       18600.57201    12543.44000\n",
              "7074       22811.59308     9387.93000"
            ]
          },
          "metadata": {}
        }
      ]
    },
    {
      "cell_type": "markdown",
      "metadata": {
        "id": "BYXwM4l3QDBu"
      },
      "source": [
        "## Подготовка для заданий 5-8"
      ]
    },
    {
      "cell_type": "markdown",
      "metadata": {
        "id": "XWQzFeKcQHRe"
      },
      "source": [
        "*Из заданий 5-8 нужно выполнить минимум два любых*\n",
        "\n",
        "Соедините transactions с всеми остальными таблицами (tr_mcc_codes, tr_types, gender_train). Причём с gender_train необходимо смёрджиться с помощью left join, а с оставшимися датафреймами - через inner.\n",
        "После получения результата таблицы gender_train, tr_types, tr_mcc_codes можно удалить. В результате соединения датафреймов должно получиться 999584 строки."
      ]
    },
    {
      "cell_type": "code",
      "metadata": {
        "colab": {
          "base_uri": "https://localhost:8080/"
        },
        "id": "sndJxjJ7QQf5",
        "outputId": "0750662f-b2e8-4e54-d0f4-f2808fbbd707"
      },
      "source": [
        "transactions = pd.merge(transactions, gender_train, how='left')\n",
        "transactions = pd.merge(transactions, tr_mcc_codes, how='inner')\n",
        "transactions = pd.merge(transactions, tr_types, how='inner')\n",
        "transactions.shape"
      ],
      "execution_count": null,
      "outputs": [
        {
          "output_type": "execute_result",
          "data": {
            "text/plain": [
              "(999584, 9)"
            ]
          },
          "metadata": {},
          "execution_count": 35
        }
      ]
    },
    {
      "cell_type": "markdown",
      "metadata": {
        "id": "8vrFauJ8QgmT"
      },
      "source": [
        "## Задание 5"
      ]
    },
    {
      "cell_type": "markdown",
      "metadata": {
        "id": "rOjEQ5xyQfE_"
      },
      "source": [
        "1. Определите модуль разницы между средними тратами женщин и мужчин (трата - отрицательное значение amount).\n",
        "2. Определите модуль разницы между средними поступлениями у мужчин и женщин\n",
        "\n",
        "Обратите внимание, что для вычисления модуля разности точных знаний о том, \n",
        "какой класc относится к мужчинам, а какой - к женщинам, не требуется."
      ]
    },
    {
      "cell_type": "code",
      "metadata": {
        "colab": {
          "base_uri": "https://localhost:8080/"
        },
        "id": "a_ORI0X5iZKq",
        "outputId": "e906e2f5-e0c4-476d-86d4-b6f1739ea78b"
      },
      "source": [
        "avg_spendings = transactions[(transactions['amount'] < 0)].groupby(['gender'])['amount'].mean()\n",
        "avg_earnings = transactions[(transactions['amount'] > 0)].groupby(['gender'])['amount'].mean()\n",
        "\n",
        "gender_spendings_diff_module = np.abs(avg_spendings[0] - avg_spendings[1])\n",
        "gender_earnings_diff_module = np.abs(avg_earnings[0] - avg_earnings[1])\n",
        "\n",
        "print(\"Модуль разницы между средними тратами женщин и мужчин\")\n",
        "print(gender_spendings_diff_module)\n",
        "print(\"Модуль разницы между средними поступлениями у мужчин и женщин\")\n",
        "print(gender_earnings_diff_module)"
      ],
      "execution_count": null,
      "outputs": [
        {
          "output_type": "stream",
          "name": "stdout",
          "text": [
            "Модуль разницы между средними тратами женщин и мужчин\n",
            "32718.05492021877\n",
            "Модуль разницы между средними поступлениями у мужчин и женщин\n",
            "63366.57104801515\n"
          ]
        }
      ]
    },
    {
      "cell_type": "markdown",
      "metadata": {
        "id": "DSHFLbepQ7G1"
      },
      "source": [
        "## Задание 6"
      ]
    },
    {
      "cell_type": "markdown",
      "metadata": {
        "id": "2EF1490bQ-17"
      },
      "source": [
        "1. По всем типам транзакций рассчитайте максимальную сумму прихода на карту (из строго положительных сумм по столбцу amount) отдельно для мужчин и женщин (назовите ее \"max_income\"). Оставьте по 10 транзакций для мужчин и для женщин, наименьших среди всех транзакций по полученным значениям \"max_income\". \n",
        "2. Выделите среди них те типы транзакций, которые встречаются одновременно и у мужчин, и у женщин"
      ]
    },
    {
      "cell_type": "code",
      "metadata": {
        "colab": {
          "base_uri": "https://localhost:8080/",
          "height": 718
        },
        "id": "wPt3i_wNi7NR",
        "outputId": "71cfbb57-02a0-465e-e070-b3e7c5821960"
      },
      "source": [
        "max_income = transactions[(transactions['amount'] > 0)].groupby(['gender','tr_type'])['amount'].max()\n",
        "least_10_max_income_gender_0 = max_income[0].nsmallest(10).reset_index(name='max_income')\n",
        "least_10_max_income_gender_1 = max_income[1].nsmallest(10).reset_index(name='max_income')\n",
        "print('least_10_max_income для мужчин и женщин')\n",
        "display(least_10_max_income_gender_0)\n",
        "display(least_10_max_income_gender_1)"
      ],
      "execution_count": null,
      "outputs": [
        {
          "output_type": "stream",
          "name": "stdout",
          "text": [
            "least_10_max_income для мужчин и женщин\n"
          ]
        },
        {
          "output_type": "display_data",
          "data": {
            "text/html": [
              "<div>\n",
              "<style scoped>\n",
              "    .dataframe tbody tr th:only-of-type {\n",
              "        vertical-align: middle;\n",
              "    }\n",
              "\n",
              "    .dataframe tbody tr th {\n",
              "        vertical-align: top;\n",
              "    }\n",
              "\n",
              "    .dataframe thead th {\n",
              "        text-align: right;\n",
              "    }\n",
              "</style>\n",
              "<table border=\"1\" class=\"dataframe\">\n",
              "  <thead>\n",
              "    <tr style=\"text-align: right;\">\n",
              "      <th></th>\n",
              "      <th>tr_type</th>\n",
              "      <th>max_income</th>\n",
              "    </tr>\n",
              "  </thead>\n",
              "  <tbody>\n",
              "    <tr>\n",
              "      <th>0</th>\n",
              "      <td>4051</td>\n",
              "      <td>1122.96000</td>\n",
              "    </tr>\n",
              "    <tr>\n",
              "      <th>1</th>\n",
              "      <td>4110</td>\n",
              "      <td>2245.92000</td>\n",
              "    </tr>\n",
              "    <tr>\n",
              "      <th>2</th>\n",
              "      <td>4210</td>\n",
              "      <td>2245.92000</td>\n",
              "    </tr>\n",
              "    <tr>\n",
              "      <th>3</th>\n",
              "      <td>2370</td>\n",
              "      <td>2335.75000</td>\n",
              "    </tr>\n",
              "    <tr>\n",
              "      <th>4</th>\n",
              "      <td>4100</td>\n",
              "      <td>5041.86000</td>\n",
              "    </tr>\n",
              "    <tr>\n",
              "      <th>5</th>\n",
              "      <td>7075</td>\n",
              "      <td>6737.75000</td>\n",
              "    </tr>\n",
              "    <tr>\n",
              "      <th>6</th>\n",
              "      <td>2110</td>\n",
              "      <td>22459.16000</td>\n",
              "    </tr>\n",
              "    <tr>\n",
              "      <th>7</th>\n",
              "      <td>1010</td>\n",
              "      <td>24839.83000</td>\n",
              "    </tr>\n",
              "    <tr>\n",
              "      <th>8</th>\n",
              "      <td>2010</td>\n",
              "      <td>44918.32000</td>\n",
              "    </tr>\n",
              "    <tr>\n",
              "      <th>9</th>\n",
              "      <td>2210</td>\n",
              "      <td>68315.82000</td>\n",
              "    </tr>\n",
              "  </tbody>\n",
              "</table>\n",
              "</div>"
            ],
            "text/plain": [
              "   tr_type  max_income\n",
              "0     4051  1122.96000\n",
              "1     4110  2245.92000\n",
              "2     4210  2245.92000\n",
              "3     2370  2335.75000\n",
              "4     4100  5041.86000\n",
              "5     7075  6737.75000\n",
              "6     2110 22459.16000\n",
              "7     1010 24839.83000\n",
              "8     2010 44918.32000\n",
              "9     2210 68315.82000"
            ]
          },
          "metadata": {}
        },
        {
          "output_type": "display_data",
          "data": {
            "text/html": [
              "<div>\n",
              "<style scoped>\n",
              "    .dataframe tbody tr th:only-of-type {\n",
              "        vertical-align: middle;\n",
              "    }\n",
              "\n",
              "    .dataframe tbody tr th {\n",
              "        vertical-align: top;\n",
              "    }\n",
              "\n",
              "    .dataframe thead th {\n",
              "        text-align: right;\n",
              "    }\n",
              "</style>\n",
              "<table border=\"1\" class=\"dataframe\">\n",
              "  <thead>\n",
              "    <tr style=\"text-align: right;\">\n",
              "      <th></th>\n",
              "      <th>tr_type</th>\n",
              "      <th>max_income</th>\n",
              "    </tr>\n",
              "  </thead>\n",
              "  <tbody>\n",
              "    <tr>\n",
              "      <th>0</th>\n",
              "      <td>2020</td>\n",
              "      <td>2245.92000</td>\n",
              "    </tr>\n",
              "    <tr>\n",
              "      <th>1</th>\n",
              "      <td>4110</td>\n",
              "      <td>2245.92000</td>\n",
              "    </tr>\n",
              "    <tr>\n",
              "      <th>2</th>\n",
              "      <td>1010</td>\n",
              "      <td>28803.87000</td>\n",
              "    </tr>\n",
              "    <tr>\n",
              "      <th>3</th>\n",
              "      <td>8100</td>\n",
              "      <td>64682.37000</td>\n",
              "    </tr>\n",
              "    <tr>\n",
              "      <th>4</th>\n",
              "      <td>6000</td>\n",
              "      <td>79280.83000</td>\n",
              "    </tr>\n",
              "    <tr>\n",
              "      <th>5</th>\n",
              "      <td>7041</td>\n",
              "      <td>87590.72000</td>\n",
              "    </tr>\n",
              "    <tr>\n",
              "      <th>6</th>\n",
              "      <td>2010</td>\n",
              "      <td>89836.63000</td>\n",
              "    </tr>\n",
              "    <tr>\n",
              "      <th>7</th>\n",
              "      <td>2110</td>\n",
              "      <td>112295.79000</td>\n",
              "    </tr>\n",
              "    <tr>\n",
              "      <th>8</th>\n",
              "      <td>2370</td>\n",
              "      <td>113194.15000</td>\n",
              "    </tr>\n",
              "    <tr>\n",
              "      <th>9</th>\n",
              "      <td>7015</td>\n",
              "      <td>121279.45000</td>\n",
              "    </tr>\n",
              "  </tbody>\n",
              "</table>\n",
              "</div>"
            ],
            "text/plain": [
              "   tr_type   max_income\n",
              "0     2020   2245.92000\n",
              "1     4110   2245.92000\n",
              "2     1010  28803.87000\n",
              "3     8100  64682.37000\n",
              "4     6000  79280.83000\n",
              "5     7041  87590.72000\n",
              "6     2010  89836.63000\n",
              "7     2110 112295.79000\n",
              "8     2370 113194.15000\n",
              "9     7015 121279.45000"
            ]
          },
          "metadata": {}
        }
      ]
    },
    {
      "cell_type": "code",
      "metadata": {
        "colab": {
          "base_uri": "https://localhost:8080/",
          "height": 221
        },
        "id": "Q0I0uQCRwX8R",
        "outputId": "984072e4-6f26-4641-877e-04ae62ce6829"
      },
      "source": [
        "print('Tранзакци, которые встречаются одновременно и у мужчин, и у женщин')\n",
        "merged_income = pd.merge(least_10_max_income_gender_0,least_10_max_income_gender_1, on=['tr_type'], how='inner') \n",
        "display(merged_income)"
      ],
      "execution_count": null,
      "outputs": [
        {
          "output_type": "stream",
          "name": "stdout",
          "text": [
            "Tранзакци, которые встречаются одновременно и у мужчин, и у женщин\n"
          ]
        },
        {
          "output_type": "display_data",
          "data": {
            "text/html": [
              "<div>\n",
              "<style scoped>\n",
              "    .dataframe tbody tr th:only-of-type {\n",
              "        vertical-align: middle;\n",
              "    }\n",
              "\n",
              "    .dataframe tbody tr th {\n",
              "        vertical-align: top;\n",
              "    }\n",
              "\n",
              "    .dataframe thead th {\n",
              "        text-align: right;\n",
              "    }\n",
              "</style>\n",
              "<table border=\"1\" class=\"dataframe\">\n",
              "  <thead>\n",
              "    <tr style=\"text-align: right;\">\n",
              "      <th></th>\n",
              "      <th>tr_type</th>\n",
              "      <th>max_income_x</th>\n",
              "      <th>max_income_y</th>\n",
              "    </tr>\n",
              "  </thead>\n",
              "  <tbody>\n",
              "    <tr>\n",
              "      <th>0</th>\n",
              "      <td>4110</td>\n",
              "      <td>2245.92000</td>\n",
              "      <td>2245.92000</td>\n",
              "    </tr>\n",
              "    <tr>\n",
              "      <th>1</th>\n",
              "      <td>2370</td>\n",
              "      <td>2335.75000</td>\n",
              "      <td>113194.15000</td>\n",
              "    </tr>\n",
              "    <tr>\n",
              "      <th>2</th>\n",
              "      <td>2110</td>\n",
              "      <td>22459.16000</td>\n",
              "      <td>112295.79000</td>\n",
              "    </tr>\n",
              "    <tr>\n",
              "      <th>3</th>\n",
              "      <td>1010</td>\n",
              "      <td>24839.83000</td>\n",
              "      <td>28803.87000</td>\n",
              "    </tr>\n",
              "    <tr>\n",
              "      <th>4</th>\n",
              "      <td>2010</td>\n",
              "      <td>44918.32000</td>\n",
              "      <td>89836.63000</td>\n",
              "    </tr>\n",
              "  </tbody>\n",
              "</table>\n",
              "</div>"
            ],
            "text/plain": [
              "   tr_type  max_income_x  max_income_y\n",
              "0     4110    2245.92000    2245.92000\n",
              "1     2370    2335.75000  113194.15000\n",
              "2     2110   22459.16000  112295.79000\n",
              "3     1010   24839.83000   28803.87000\n",
              "4     2010   44918.32000   89836.63000"
            ]
          },
          "metadata": {}
        }
      ]
    },
    {
      "cell_type": "markdown",
      "metadata": {
        "id": "W-LaVwRdR3UB"
      },
      "source": [
        "## Задание 7"
      ]
    },
    {
      "cell_type": "markdown",
      "metadata": {
        "id": "rhI4NOciR7e0"
      },
      "source": [
        "1. Найдите суммы затрат по каждой категории (mcc) для мужчин и для женщин. \n",
        "2. Найдите топ 5 категорий с самыми большими относительными модулями разности в тратах для разных полов (в ответе должны присутствовать описания mcc кодов)."
      ]
    },
    {
      "cell_type": "code",
      "metadata": {
        "colab": {
          "base_uri": "https://localhost:8080/",
          "height": 425
        },
        "id": "1FByyKKiXJJf",
        "outputId": "51c29a85-290b-4c43-8043-adf79c6ffbd1"
      },
      "source": [
        "mcc_code_sum_groupby_gender = transactions.groupby(['gender','mcc_code'])['amount'].sum()\n",
        "display(mcc_code_sum_groupby_gender)\n",
        "top_5_mcc_codes = np.abs(mcc_code_sum_groupby_gender[0] - mcc_code_sum_groupby_gender[1]).nlargest(5).index.to_list()\n",
        "display(tr_mcc_codes[(tr_mcc_codes['mcc_code'].isin(top_5_mcc_codes)) & (tr_mcc_codes['mcc_description'])])\n"
      ],
      "execution_count": null,
      "outputs": [
        {
          "output_type": "display_data",
          "data": {
            "text/plain": [
              "gender   mcc_code\n",
              "0.00000  742          -386207.68000\n",
              "         1711         -674897.69000\n",
              "         1799         -261626.73000\n",
              "         2741          -20746.42000\n",
              "         3000       -70435914.05000\n",
              "                          ...      \n",
              "1.00000  8999       -28636743.64000\n",
              "         9222         -988205.17000\n",
              "         9311         -373271.22000\n",
              "         9399        -1810820.67000\n",
              "         9402           -4581.67000\n",
              "Name: amount, Length: 349, dtype: float64"
            ]
          },
          "metadata": {}
        },
        {
          "output_type": "display_data",
          "data": {
            "text/html": [
              "<div>\n",
              "<style scoped>\n",
              "    .dataframe tbody tr th:only-of-type {\n",
              "        vertical-align: middle;\n",
              "    }\n",
              "\n",
              "    .dataframe tbody tr th {\n",
              "        vertical-align: top;\n",
              "    }\n",
              "\n",
              "    .dataframe thead th {\n",
              "        text-align: right;\n",
              "    }\n",
              "</style>\n",
              "<table border=\"1\" class=\"dataframe\">\n",
              "  <thead>\n",
              "    <tr style=\"text-align: right;\">\n",
              "      <th></th>\n",
              "      <th>mcc_code</th>\n",
              "      <th>mcc_description</th>\n",
              "    </tr>\n",
              "  </thead>\n",
              "  <tbody>\n",
              "    <tr>\n",
              "      <th>22</th>\n",
              "      <td>4829</td>\n",
              "      <td>Денежные переводы</td>\n",
              "    </tr>\n",
              "    <tr>\n",
              "      <th>62</th>\n",
              "      <td>5511</td>\n",
              "      <td>Легковой и грузовой транспорт — продажа, серви...</td>\n",
              "    </tr>\n",
              "    <tr>\n",
              "      <th>65</th>\n",
              "      <td>5541</td>\n",
              "      <td>Станции техобслуживания</td>\n",
              "    </tr>\n",
              "    <tr>\n",
              "      <th>123</th>\n",
              "      <td>6010</td>\n",
              "      <td>Финансовые институты — снятие наличности вручную</td>\n",
              "    </tr>\n",
              "    <tr>\n",
              "      <th>124</th>\n",
              "      <td>6011</td>\n",
              "      <td>Финансовые институты — снятие наличности автом...</td>\n",
              "    </tr>\n",
              "  </tbody>\n",
              "</table>\n",
              "</div>"
            ],
            "text/plain": [
              "     mcc_code                                    mcc_description\n",
              "22       4829                                  Денежные переводы\n",
              "62       5511  Легковой и грузовой транспорт — продажа, серви...\n",
              "65       5541                            Станции техобслуживания\n",
              "123      6010   Финансовые институты — снятие наличности вручную\n",
              "124      6011  Финансовые институты — снятие наличности автом..."
            ]
          },
          "metadata": {}
        }
      ]
    },
    {
      "cell_type": "markdown",
      "metadata": {
        "id": "aGaPkQkVSvl8"
      },
      "source": [
        "## Задание 8"
      ]
    },
    {
      "cell_type": "markdown",
      "metadata": {
        "id": "T7Ox1qAXTHQl"
      },
      "source": [
        "1. Из поля tr_datetime выделите час tr_hour, в который произошла транзакция, как первые 2 цифры до \":\". (\\**)\n",
        "2. Посчитайте количество транзакций с amount<0 в ночное время для мужчин и женщин. Ночное время - это примерно 00-06 часов. "
      ]
    },
    {
      "cell_type": "code",
      "metadata": {
        "colab": {
          "base_uri": "https://localhost:8080/",
          "height": 949
        },
        "id": "How82FINui5y",
        "outputId": "a0d6d268-9aeb-41fb-cbb8-45a7b74ca204"
      },
      "source": [
        "transactions[['tr_date','tr_time']] = transactions['tr_datetime'].str.split(' ',expand=True)\n",
        "transactions[['tr_hour','tr_minute','tr_second']] = transactions['tr_time'].str.split(':', expand=True)\n",
        "\n",
        "night_transactions = transactions[(transactions['tr_hour'].isin(['00','01','02','03','04','05'])) & (transactions['amount'] < 0)]\n",
        "night_transactions_groupby_gender = night_transactions.groupby('gender')['amount'].count()\n",
        "print('Количество транзакций с amount<0 в ночное время для мужчин и женщин')\n",
        "print(night_transactions_groupby_gender)\n",
        "display(transactions)"
      ],
      "execution_count": null,
      "outputs": [
        {
          "output_type": "stream",
          "name": "stdout",
          "text": [
            "Количество транзакций с amount<0 в ночное время для мужчин и женщин\n",
            "gender\n",
            "0.00000    38827\n",
            "1.00000    43017\n",
            "Name: amount, dtype: int64\n"
          ]
        },
        {
          "output_type": "display_data",
          "data": {
            "text/html": [
              "<div>\n",
              "<style scoped>\n",
              "    .dataframe tbody tr th:only-of-type {\n",
              "        vertical-align: middle;\n",
              "    }\n",
              "\n",
              "    .dataframe tbody tr th {\n",
              "        vertical-align: top;\n",
              "    }\n",
              "\n",
              "    .dataframe thead th {\n",
              "        text-align: right;\n",
              "    }\n",
              "</style>\n",
              "<table border=\"1\" class=\"dataframe\">\n",
              "  <thead>\n",
              "    <tr style=\"text-align: right;\">\n",
              "      <th></th>\n",
              "      <th>customer_id</th>\n",
              "      <th>tr_datetime</th>\n",
              "      <th>mcc_code</th>\n",
              "      <th>tr_type</th>\n",
              "      <th>amount</th>\n",
              "      <th>term_id</th>\n",
              "      <th>gender</th>\n",
              "      <th>mcc_description</th>\n",
              "      <th>tr_description</th>\n",
              "      <th>tr_date</th>\n",
              "      <th>tr_time</th>\n",
              "      <th>tr_hour</th>\n",
              "      <th>tr_minute</th>\n",
              "      <th>tr_second</th>\n",
              "    </tr>\n",
              "  </thead>\n",
              "  <tbody>\n",
              "    <tr>\n",
              "      <th>0</th>\n",
              "      <td>39026145</td>\n",
              "      <td>0 10:23:26</td>\n",
              "      <td>4814</td>\n",
              "      <td>1030</td>\n",
              "      <td>-2245.92000</td>\n",
              "      <td>NaN</td>\n",
              "      <td>1.00000</td>\n",
              "      <td>Звонки с использованием телефонов, считывающих...</td>\n",
              "      <td>Оплата услуги. Банкоматы СБ РФ</td>\n",
              "      <td>0</td>\n",
              "      <td>10:23:26</td>\n",
              "      <td>10</td>\n",
              "      <td>23</td>\n",
              "      <td>26</td>\n",
              "    </tr>\n",
              "    <tr>\n",
              "      <th>1</th>\n",
              "      <td>39026145</td>\n",
              "      <td>6 07:08:31</td>\n",
              "      <td>4814</td>\n",
              "      <td>1030</td>\n",
              "      <td>-5614.79000</td>\n",
              "      <td>NaN</td>\n",
              "      <td>1.00000</td>\n",
              "      <td>Звонки с использованием телефонов, считывающих...</td>\n",
              "      <td>Оплата услуги. Банкоматы СБ РФ</td>\n",
              "      <td>6</td>\n",
              "      <td>07:08:31</td>\n",
              "      <td>07</td>\n",
              "      <td>08</td>\n",
              "      <td>31</td>\n",
              "    </tr>\n",
              "    <tr>\n",
              "      <th>2</th>\n",
              "      <td>39026145</td>\n",
              "      <td>8 07:06:10</td>\n",
              "      <td>4814</td>\n",
              "      <td>1030</td>\n",
              "      <td>-1122.96000</td>\n",
              "      <td>NaN</td>\n",
              "      <td>1.00000</td>\n",
              "      <td>Звонки с использованием телефонов, считывающих...</td>\n",
              "      <td>Оплата услуги. Банкоматы СБ РФ</td>\n",
              "      <td>8</td>\n",
              "      <td>07:06:10</td>\n",
              "      <td>07</td>\n",
              "      <td>06</td>\n",
              "      <td>10</td>\n",
              "    </tr>\n",
              "    <tr>\n",
              "      <th>3</th>\n",
              "      <td>39026145</td>\n",
              "      <td>11 08:49:03</td>\n",
              "      <td>4814</td>\n",
              "      <td>1030</td>\n",
              "      <td>-2245.92000</td>\n",
              "      <td>NaN</td>\n",
              "      <td>1.00000</td>\n",
              "      <td>Звонки с использованием телефонов, считывающих...</td>\n",
              "      <td>Оплата услуги. Банкоматы СБ РФ</td>\n",
              "      <td>11</td>\n",
              "      <td>08:49:03</td>\n",
              "      <td>08</td>\n",
              "      <td>49</td>\n",
              "      <td>03</td>\n",
              "    </tr>\n",
              "    <tr>\n",
              "      <th>4</th>\n",
              "      <td>39026145</td>\n",
              "      <td>11 14:12:08</td>\n",
              "      <td>4814</td>\n",
              "      <td>1030</td>\n",
              "      <td>-2245.92000</td>\n",
              "      <td>NaN</td>\n",
              "      <td>1.00000</td>\n",
              "      <td>Звонки с использованием телефонов, считывающих...</td>\n",
              "      <td>Оплата услуги. Банкоматы СБ РФ</td>\n",
              "      <td>11</td>\n",
              "      <td>14:12:08</td>\n",
              "      <td>14</td>\n",
              "      <td>12</td>\n",
              "      <td>08</td>\n",
              "    </tr>\n",
              "    <tr>\n",
              "      <th>...</th>\n",
              "      <td>...</td>\n",
              "      <td>...</td>\n",
              "      <td>...</td>\n",
              "      <td>...</td>\n",
              "      <td>...</td>\n",
              "      <td>...</td>\n",
              "      <td>...</td>\n",
              "      <td>...</td>\n",
              "      <td>...</td>\n",
              "      <td>...</td>\n",
              "      <td>...</td>\n",
              "      <td>...</td>\n",
              "      <td>...</td>\n",
              "      <td>...</td>\n",
              "    </tr>\n",
              "    <tr>\n",
              "      <th>999579</th>\n",
              "      <td>36837532</td>\n",
              "      <td>18 23:38:60</td>\n",
              "      <td>3000</td>\n",
              "      <td>6000</td>\n",
              "      <td>1297824.89000</td>\n",
              "      <td>NaN</td>\n",
              "      <td>nan</td>\n",
              "      <td>Авиалинии, авиакомпании</td>\n",
              "      <td>Возврат  покупки. ТУ СБ РФ</td>\n",
              "      <td>18</td>\n",
              "      <td>23:38:60</td>\n",
              "      <td>23</td>\n",
              "      <td>38</td>\n",
              "      <td>60</td>\n",
              "    </tr>\n",
              "    <tr>\n",
              "      <th>999580</th>\n",
              "      <td>6808459</td>\n",
              "      <td>206 19:00:10</td>\n",
              "      <td>3000</td>\n",
              "      <td>6000</td>\n",
              "      <td>124693.24000</td>\n",
              "      <td>NaN</td>\n",
              "      <td>nan</td>\n",
              "      <td>Авиалинии, авиакомпании</td>\n",
              "      <td>Возврат  покупки. ТУ СБ РФ</td>\n",
              "      <td>206</td>\n",
              "      <td>19:00:10</td>\n",
              "      <td>19</td>\n",
              "      <td>00</td>\n",
              "      <td>10</td>\n",
              "    </tr>\n",
              "    <tr>\n",
              "      <th>999581</th>\n",
              "      <td>83759123</td>\n",
              "      <td>90 22:40:57</td>\n",
              "      <td>3000</td>\n",
              "      <td>6000</td>\n",
              "      <td>218976.79000</td>\n",
              "      <td>NaN</td>\n",
              "      <td>nan</td>\n",
              "      <td>Авиалинии, авиакомпании</td>\n",
              "      <td>Возврат  покупки. ТУ СБ РФ</td>\n",
              "      <td>90</td>\n",
              "      <td>22:40:57</td>\n",
              "      <td>22</td>\n",
              "      <td>40</td>\n",
              "      <td>57</td>\n",
              "    </tr>\n",
              "    <tr>\n",
              "      <th>999582</th>\n",
              "      <td>89619970</td>\n",
              "      <td>104 23:39:35</td>\n",
              "      <td>3000</td>\n",
              "      <td>6000</td>\n",
              "      <td>408307.49000</td>\n",
              "      <td>NaN</td>\n",
              "      <td>nan</td>\n",
              "      <td>Авиалинии, авиакомпании</td>\n",
              "      <td>Возврат  покупки. ТУ СБ РФ</td>\n",
              "      <td>104</td>\n",
              "      <td>23:39:35</td>\n",
              "      <td>23</td>\n",
              "      <td>39</td>\n",
              "      <td>35</td>\n",
              "    </tr>\n",
              "    <tr>\n",
              "      <th>999583</th>\n",
              "      <td>89619970</td>\n",
              "      <td>105 23:38:49</td>\n",
              "      <td>3000</td>\n",
              "      <td>6000</td>\n",
              "      <td>204153.74000</td>\n",
              "      <td>NaN</td>\n",
              "      <td>nan</td>\n",
              "      <td>Авиалинии, авиакомпании</td>\n",
              "      <td>Возврат  покупки. ТУ СБ РФ</td>\n",
              "      <td>105</td>\n",
              "      <td>23:38:49</td>\n",
              "      <td>23</td>\n",
              "      <td>38</td>\n",
              "      <td>49</td>\n",
              "    </tr>\n",
              "  </tbody>\n",
              "</table>\n",
              "<p>999584 rows × 14 columns</p>\n",
              "</div>"
            ],
            "text/plain": [
              "        customer_id   tr_datetime  mcc_code  ...  tr_hour  tr_minute tr_second\n",
              "0          39026145    0 10:23:26      4814  ...       10         23        26\n",
              "1          39026145    6 07:08:31      4814  ...       07         08        31\n",
              "2          39026145    8 07:06:10      4814  ...       07         06        10\n",
              "3          39026145   11 08:49:03      4814  ...       08         49        03\n",
              "4          39026145   11 14:12:08      4814  ...       14         12        08\n",
              "...             ...           ...       ...  ...      ...        ...       ...\n",
              "999579     36837532   18 23:38:60      3000  ...       23         38        60\n",
              "999580      6808459  206 19:00:10      3000  ...       19         00        10\n",
              "999581     83759123   90 22:40:57      3000  ...       22         40        57\n",
              "999582     89619970  104 23:39:35      3000  ...       23         39        35\n",
              "999583     89619970  105 23:38:49      3000  ...       23         38        49\n",
              "\n",
              "[999584 rows x 14 columns]"
            ]
          },
          "metadata": {}
        }
      ]
    },
    {
      "cell_type": "markdown",
      "metadata": {
        "id": "YJYcXK0aQPCU"
      },
      "source": [
        "**Защита:**"
      ]
    },
    {
      "cell_type": "markdown",
      "metadata": {
        "id": "EqEUlUt-QXe1"
      },
      "source": [
        "Найдите term_id, на котором больше всего транзакций с amount<0, сделайте то же самое для обоих полов\n",
        "\n",
        "Найдите term_id, на котором больше всего транзакций с amount>0, сделайте то же самое для обоих полов\n",
        "\n",
        "Найдите пользователя, который совершил транзакций на самом большом количестве разных терминалов."
      ]
    },
    {
      "cell_type": "code",
      "metadata": {
        "colab": {
          "base_uri": "https://localhost:8080/"
        },
        "id": "WIEO03k4QgFP",
        "outputId": "3254792e-9aa6-483d-c46b-6c059791adf2"
      },
      "source": [
        "term_id_transactions_count = transactions[transactions['amount']<0].groupby(['gender','term_id'])['amount'].count()\n",
        "print(\"term_id, на котором больше всего транзакций с amount<0\")\n",
        "print(term_id_transactions_count[0].nlargest(1))\n",
        "print(term_id_transactions_count[1].nlargest(1))\n",
        "\n",
        "term_id_transactions_count = transactions[transactions['amount']>0].groupby(['gender','term_id'])['amount'].count()\n",
        "print(\"term_id, на котором больше всего транзакций с amount>0\")\n",
        "print(term_id_transactions_count[0].nlargest(1))\n",
        "print(term_id_transactions_count[1].nlargest(1))\n",
        "\n",
        "print(\"Пользователь, который совершил транзакций на самом большом количестве разных терминалов\")\n",
        "most_terminals_user = transactions.groupby('customer_id')['term_id'].count().nlargest(1)\n",
        "print(most_terminals_user)"
      ],
      "execution_count": null,
      "outputs": [
        {
          "output_type": "stream",
          "name": "stdout",
          "text": [
            "term_id, на котором больше всего транзакций с amount<0\n",
            "term_id\n",
            "888986    1523\n",
            "Name: amount, dtype: int64\n",
            "term_id\n",
            "888993    1269\n",
            "Name: amount, dtype: int64\n",
            "term_id, на котором больше всего транзакций с amount>0\n",
            "term_id\n",
            "888993    1475\n",
            "Name: amount, dtype: int64\n",
            "term_id\n",
            "888987    6057\n",
            "Name: amount, dtype: int64\n",
            "Пользователь, который совершил транзакций на самом большом количестве разных терминалов\n",
            "customer_id\n",
            "70780820    50651\n",
            "Name: term_id, dtype: int64\n"
          ]
        }
      ]
    }
  ]
}