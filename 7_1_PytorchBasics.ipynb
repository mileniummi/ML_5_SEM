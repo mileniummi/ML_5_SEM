{
  "nbformat": 4,
  "nbformat_minor": 0,
  "metadata": {
    "colab": {
      "name": "7.1.PytorchBasics.ipynb",
      "provenance": []
    },
    "kernelspec": {
      "display_name": "Python 3",
      "language": "python",
      "name": "python3"
    },
    "language_info": {
      "codemirror_mode": {
        "name": "ipython",
        "version": 3
      },
      "file_extension": ".py",
      "mimetype": "text/x-python",
      "name": "python",
      "nbconvert_exporter": "python",
      "pygments_lexer": "ipython3",
      "version": "3.6.5"
    },
    "accelerator": "GPU"
  },
  "cells": [
    {
      "cell_type": "markdown",
      "metadata": {
        "id": "vcnGdgw_YJ8u"
      },
      "source": [
        "# PyTorch. Основы: синтаксис, torch.cuda и torch.autograd\n",
        "\n",
        "## Задание 7.1"
      ]
    },
    {
      "cell_type": "code",
      "metadata": {
        "id": "RtyozNmmYJ89"
      },
      "source": [
        "import torch\n",
        "import matplotlib.pyplot as plt\n",
        "from torch.autograd import Variable"
      ],
      "execution_count": null,
      "outputs": []
    },
    {
      "cell_type": "markdown",
      "metadata": {
        "id": "ny4-Qi2wYJ-6"
      },
      "source": [
        "### Задача 1"
      ]
    },
    {
      "cell_type": "markdown",
      "metadata": {
        "id": "IWxlFq0bYJ-_"
      },
      "source": [
        "1). Создайте два вещественных тензора: `a` размером (3, 4) и `b` размером (12,)   \n",
        "2). Создайте тензор `c`, являющийся тензором `b`, но размера (2, 2, 3)  \n",
        "3). Выведите первый столбец матрицы `a` с помощью индексации"
      ]
    },
    {
      "cell_type": "code",
      "metadata": {
        "id": "3oxZuk3yYJ_A",
        "colab": {
          "base_uri": "https://localhost:8080/"
        },
        "outputId": "00072375-dc05-40b2-ce85-8284872e34b9"
      },
      "source": [
        "# Ваш код здесь\n",
        "a = torch.FloatTensor(3, 4)\n",
        "b = torch.FloatTensor(12,)\n",
        "print(\"Tensor a:\\n\", a)\n",
        "print(\"its first column: \\n\", a[:, 0])\n"
      ],
      "execution_count": null,
      "outputs": [
        {
          "output_type": "stream",
          "name": "stdout",
          "text": [
            "Tensor a:\n",
            " tensor([[1.6896e-26, 3.0932e-41, 3.7835e-44, 0.0000e+00],\n",
            "        [       nan, 3.0932e-41, 1.3733e-14, 6.4069e+02],\n",
            "        [4.3066e+21, 1.1824e+22, 4.3066e+21, 6.3828e+28]])\n",
            "its first column: \n",
            " tensor([1.6896e-26,        nan, 4.3066e+21])\n"
          ]
        }
      ]
    },
    {
      "cell_type": "code",
      "source": [
        "print(\"Tensor b:\\n\", b)\n",
        "c = torch.reshape(b, (2, 2, 3))\n",
        "print(\"Tensor c:\\n\", c)\n",
        "print(c[0][0][:] )"
      ],
      "metadata": {
        "colab": {
          "base_uri": "https://localhost:8080/"
        },
        "id": "WcVxlOQ2rILh",
        "outputId": "696e1bd2-38cc-43c3-afe8-43849c70718e"
      },
      "execution_count": null,
      "outputs": [
        {
          "output_type": "stream",
          "name": "stdout",
          "text": [
            "Tensor b:\n",
            " tensor([1.6896e-26, 3.0932e-41, 3.9236e-44, 0.0000e+00,        nan, 0.0000e+00,\n",
            "        1.3733e-14, 1.2102e+25, 1.6992e-07, 2.9599e+21, 2.8175e+20, 1.7566e+25])\n",
            "Tensor c:\n",
            " tensor([[[1.6896e-26, 3.0932e-41, 3.9236e-44],\n",
            "         [0.0000e+00,        nan, 0.0000e+00]],\n",
            "\n",
            "        [[1.3733e-14, 1.2102e+25, 1.6992e-07],\n",
            "         [2.9599e+21, 2.8175e+20, 1.7566e+25]]])\n",
            "tensor([1.6896e-26, 3.0932e-41, 3.9236e-44])\n"
          ]
        }
      ]
    },
    {
      "cell_type": "markdown",
      "metadata": {
        "id": "D2IP_FrKYKAA"
      },
      "source": [
        "### Задача 2"
      ]
    },
    {
      "cell_type": "markdown",
      "metadata": {
        "id": "tBZFbSYQYKAA"
      },
      "source": [
        "1). Создайте два вещественных тензора: `a` размером (5, 2) и `b` размером (1,10)   \n",
        "2). Создайте тензор `c`, являющийся тензором `b`, но размера (5, 2)  \n",
        "3). Произведите все арифметические операции с тензорами `a` и `c`"
      ]
    },
    {
      "cell_type": "code",
      "metadata": {
        "id": "hzs2bH3GYKAB"
      },
      "source": [
        "# Ваш код здесь\n",
        "a = torch.FloatTensor(5, 2)\n",
        "b = torch.FloatTensor(1, 10)\n",
        "c = b.view(5, 2)\n",
        "\n",
        "z1 = a.add(c) \n",
        "z2 = a.mul(c)\n",
        "z3 = a.sub(c)\n",
        "z4 = a.div(c)\n",
        "z5 = a ** c"
      ],
      "execution_count": null,
      "outputs": []
    },
    {
      "cell_type": "markdown",
      "metadata": {
        "id": "rIaroFO6YKBT"
      },
      "source": [
        "### Задача 3"
      ]
    },
    {
      "cell_type": "markdown",
      "metadata": {
        "id": "GfLHVvKvYKBT"
      },
      "source": [
        "1). Создайте тензор *целых чисел* `images` размерности (100, 200, 200, 3) (можно интерпретировать это как 100 картинок размера 200х200 с тремя цветовыми каналами, то есть 100 цветных изображений 200х200). Заполните его нулями  \n",
        "\n",
        "2). Сделайте так, чтобы у $i$-ой по порядку картинки была нарисована белая полоса толщиной два пикселя в строках, которые соответствуют номеру картинки. Например, у 3-ей по порядку картинки белая полоска будет занимать 6 и 7 строки, у 99 - 198 и 199. Сделать белую строку можно, записав в ячейки тензора число 255 (по всем трём каналам). Выведите несколько примеров с помощью `pylot`  \n",
        "\n",
        "3). Посчитайте среднее тензора `images` по 1-ой оси (по сути - средняя картинка), умножьте полученный тензор на 70. Нарисуйте с помощью `pyplot`, должна получиться серая картинка (при взятии среднего нужно привести тензор к float с помощью `.float()`, при отрисовке обратно к int с помощью `.int()`)"
      ]
    },
    {
      "cell_type": "code",
      "metadata": {
        "id": "pZVGHEQQYKBU"
      },
      "source": [
        "# Ваш код здесь\n",
        "images = torch.zeros(100, 200, 200, 3)\n",
        "for i in range(100):\n",
        "  images[i][2*i][:][:] = 255\n",
        "  images[i][2*i+1][:][:] = 255\n",
        "images = images.int() "
      ],
      "execution_count": null,
      "outputs": []
    },
    {
      "cell_type": "code",
      "source": [
        "plt.figure()\n",
        "f, axarr = plt.subplots(1, 4)\n",
        "f.set_figwidth(10)\n",
        "f.set_figheight(8)\n",
        "axarr[0].imshow(images[3])\n",
        "axarr[1].imshow(images[19])\n",
        "axarr[2].imshow(images[55])\n",
        "axarr[3].imshow(images[99])"
      ],
      "metadata": {
        "colab": {
          "base_uri": "https://localhost:8080/",
          "height": 208
        },
        "id": "se92uTcdD2DV",
        "outputId": "ab794cc2-2eba-4a2f-fdc3-d72f40914f49"
      },
      "execution_count": null,
      "outputs": [
        {
          "output_type": "execute_result",
          "data": {
            "text/plain": [
              "<matplotlib.image.AxesImage at 0x7f452ac76750>"
            ]
          },
          "metadata": {},
          "execution_count": 6
        },
        {
          "output_type": "display_data",
          "data": {
            "text/plain": [
              "<Figure size 432x288 with 0 Axes>"
            ]
          },
          "metadata": {}
        },
        {
          "output_type": "display_data",
          "data": {
            "image/png": "[encoded data removed]",
            "text/plain": [
              "<Figure size 720x576 with 4 Axes>"
            ]
          },
          "metadata": {
            "needs_background": "light"
          }
        }
      ]
    },
    {
      "cell_type": "code",
      "source": [
        "images = images.float()\n",
        "image_gray = torch.mean(images, dim=0)\n",
        "image_gray *= 70\n",
        "image_gray = image_gray.int()\n",
        "plt.imshow(image_gray)"
      ],
      "metadata": {
        "colab": {
          "base_uri": "https://localhost:8080/",
          "height": 286
        },
        "id": "HBerglyZ4Voo",
        "outputId": "d16463af-1e17-4b26-ca13-bcc1ca5f549b"
      },
      "execution_count": null,
      "outputs": [
        {
          "output_type": "execute_result",
          "data": {
            "text/plain": [
              "<matplotlib.image.AxesImage at 0x7f462c1c95d0>"
            ]
          },
          "metadata": {},
          "execution_count": 7
        },
        {
          "output_type": "display_data",
          "data": {
            "image/png": "[encoded data removed]",
            "text/plain": [
              "<Figure size 432x288 with 1 Axes>"
            ]
          },
          "metadata": {
            "needs_background": "light"
          }
        }
      ]
    },
    {
      "cell_type": "markdown",
      "metadata": {
        "id": "oQnhq5ZdYKCu"
      },
      "source": [
        "### Задача 4"
      ]
    },
    {
      "cell_type": "markdown",
      "metadata": {
        "id": "UB95BhgTYKCu"
      },
      "source": [
        "- В Colab нажмите в меню сверху: `Runtime` -> `Change Runtime Type` -> `GPU`, где изначально стоит `None` (`Среда выполнение` - `Сменить среду выполнения`)\n",
        "- Объявите тензор `a` размера (2, 3, 4) и тензор `b` размера (1, 8, 3) на GPU, иницилизируйте их случайно равномерно (`.uniform_()`)\n",
        "- Затем измените форму тензора `b`, чтобы она совпадала с формой тензора `a`, получите тензор `c`  \n",
        "- Переместите `c` на CPU, переместите `a` на CPU  \n",
        "- Оберните их в `Variable()`\n",
        "- Объявите тензор `L = torch.mean((c - a) `**` 2)` и посчитайте градиент `L` по `c` ( то есть $\\frac{\\partial{L}}{\\partial{c}})$\n",
        "- Выведите градиент `L` по `c`"
      ]
    },
    {
      "cell_type": "code",
      "metadata": {
        "id": "WESOm5TCYKCv",
        "colab": {
          "base_uri": "https://localhost:8080/"
        },
        "outputId": "91b29f85-0f0e-4064-c440-d71f2ce1d744"
      },
      "source": [
        "# Ваш код здесь\n",
        "a = torch.FloatTensor(2, 3, 4).uniform_().cuda()\n",
        "b = torch.FloatTensor(1, 8, 3).uniform_().cuda()\n",
        "print(a.is_cuda)\n",
        "print(b.is_cuda)"
      ],
      "execution_count": null,
      "outputs": [
        {
          "output_type": "stream",
          "name": "stdout",
          "text": [
            "True\n",
            "True\n"
          ]
        }
      ]
    },
    {
      "cell_type": "code",
      "source": [
        "c = Variable(b.reshape(2, 3, 4).cpu(), requires_grad=True)\n",
        "a = Variable(a.cpu()) \n",
        "print(a.is_cuda)\n",
        "print(c.is_cuda)"
      ],
      "metadata": {
        "id": "Z46IXBRu97h4",
        "colab": {
          "base_uri": "https://localhost:8080/"
        },
        "outputId": "0c1820c0-288b-434a-b30c-48322ceb9f1b"
      },
      "execution_count": null,
      "outputs": [
        {
          "output_type": "stream",
          "name": "stdout",
          "text": [
            "False\n",
            "False\n"
          ]
        }
      ]
    },
    {
      "cell_type": "code",
      "source": [
        "L = torch.mean((c - a)**2)\n",
        "L.backward()\n",
        "print(c.grad)"
      ],
      "metadata": {
        "id": "eRJSE0oD_L3E",
        "colab": {
          "base_uri": "https://localhost:8080/"
        },
        "outputId": "ac17d4ab-d3dd-405a-a3a2-ee091f00764b"
      },
      "execution_count": null,
      "outputs": [
        {
          "output_type": "stream",
          "name": "stdout",
          "text": [
            "tensor([[[-0.0306,  0.0363,  0.0133,  0.0332],\n",
            "         [ 0.0295,  0.0222,  0.0378,  0.0426],\n",
            "         [ 0.0001,  0.0513, -0.0238,  0.0581]],\n",
            "\n",
            "        [[-0.0616,  0.0124, -0.0091,  0.0124],\n",
            "         [-0.0130,  0.0343,  0.0812, -0.0057],\n",
            "         [-0.0039,  0.0353,  0.0167,  0.0223]]])\n"
          ]
        }
      ]
    }
  ]
}