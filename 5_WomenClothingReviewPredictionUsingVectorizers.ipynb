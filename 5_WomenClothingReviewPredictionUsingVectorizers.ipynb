{
  "nbformat": 4,
  "nbformat_minor": 0,
  "metadata": {
    "colab": {
      "name": "5.WomenClothingReviewPredictionUsingVectorizers.ipynb",
      "provenance": [],
      "collapsed_sections": []
    },
    "kernelspec": {
      "display_name": "Python 3",
      "language": "python",
      "name": "python3"
    },
    "language_info": {
      "codemirror_mode": {
        "name": "ipython",
        "version": 3
      },
      "file_extension": ".py",
      "mimetype": "text/x-python",
      "name": "python",
      "nbconvert_exporter": "python",
      "pygments_lexer": "ipython3",
      "version": "3.5.2"
    }
  },
  "cells": [
    {
      "cell_type": "markdown",
      "metadata": {
        "id": "UHX9p5jfTySS"
      },
      "source": [
        "## Задание 5.1"
      ]
    },
    {
      "cell_type": "markdown",
      "metadata": {
        "id": "0EnHNZtbXlH0"
      },
      "source": [
        "Набор данных тут: https://github.com/sismetanin/rureviews, также есть в папке [Data](https://drive.google.com/drive/folders/1YAMe7MiTxA-RSSd8Ex2p-L0Dspe6Gs4L). Те, кто предпочитает работать с английским языком, могут использовать набор данных `sms_spam`."
      ]
    },
    {
      "cell_type": "markdown",
      "metadata": {
        "id": "bJox-LoonoPx"
      },
      "source": [
        "Применим полученные навыки и решим задачу анализа тональности отзывов. \n",
        "\n",
        "Нужно повторить весь пайплайн от сырых текстов до получения обученной модели.\n",
        "\n",
        "Обязательные шаги предобработки:\n",
        "1. токенизация\n",
        "2. приведение к нижнему регистру\n",
        "3. удаление стоп-слов\n",
        "4. лемматизация\n",
        "5. векторизация (с настройкой гиперпараметров)\n",
        "6. построение модели\n",
        "7. оценка качества модели\n",
        "\n",
        "Обязательно использование векторайзеров:\n",
        "1. мешок n-грамм (диапазон для n подбирайте самостоятельно, запрещено использовать только униграммы).\n",
        "2. tf-idf ((диапазон для n подбирайте самостоятельно, также нужно подбирать параметры max_df, min_df, max_features)\n",
        "3. символьные n-граммы (диапазон для n подбирайте самостоятельно)\n",
        "\n",
        "В качестве классификатора нужно использовать наивный байесовский классификатор. \n",
        "\n",
        "Для сравнения векторайзеров между собой используйте precision, recall, f1-score и accuracy. Для этого сформируйте датафрейм, в котором в строках будут разные векторайзеры, а в столбцах разные метрики качества, а в  ячейках будут значения этих метрик для соответсвующих векторайзеров."
      ]
    },
    {
      "cell_type": "code",
      "metadata": {
        "id": "Y1i9wOTDZaMH"
      },
      "source": [
        "%%capture\n",
        "import nltk\n",
        "nltk.download('punkt')\n",
        "nltk.download('stopwords')\n",
        "nltk.download('wordnet')"
      ],
      "execution_count": null,
      "outputs": []
    },
    {
      "cell_type": "code",
      "metadata": {
        "colab": {
          "base_uri": "https://localhost:8080/",
          "height": 206
        },
        "id": "qYMxx6yiQXyN",
        "outputId": "f952745d-fe9c-42eb-e7d9-217346f0d335"
      },
      "source": [
        "import string\n",
        "import pandas as pd\n",
        "import numpy as np\n",
        "\n",
        "url = 'https://raw.githubusercontent.com/sismetanin/rureviews/master/women-clothing-accessories.3-class.balanced.csv'\n",
        "data = pd.read_csv(url, sep='\\t', usecols=[0, 1])\n",
        "display(data.head())"
      ],
      "execution_count": null,
      "outputs": [
        {
          "output_type": "display_data",
          "data": {
            "text/html": [
              "<div>\n",
              "<style scoped>\n",
              "    .dataframe tbody tr th:only-of-type {\n",
              "        vertical-align: middle;\n",
              "    }\n",
              "\n",
              "    .dataframe tbody tr th {\n",
              "        vertical-align: top;\n",
              "    }\n",
              "\n",
              "    .dataframe thead th {\n",
              "        text-align: right;\n",
              "    }\n",
              "</style>\n",
              "<table border=\"1\" class=\"dataframe\">\n",
              "  <thead>\n",
              "    <tr style=\"text-align: right;\">\n",
              "      <th></th>\n",
              "      <th>review</th>\n",
              "      <th>sentiment</th>\n",
              "    </tr>\n",
              "  </thead>\n",
              "  <tbody>\n",
              "    <tr>\n",
              "      <th>0</th>\n",
              "      <td>качество плохое пошив ужасный (горловина напер...</td>\n",
              "      <td>negative</td>\n",
              "    </tr>\n",
              "    <tr>\n",
              "      <th>1</th>\n",
              "      <td>Товар отдали другому человеку, я не получила п...</td>\n",
              "      <td>negative</td>\n",
              "    </tr>\n",
              "    <tr>\n",
              "      <th>2</th>\n",
              "      <td>Ужасная синтетика! Тонкая, ничего общего с пре...</td>\n",
              "      <td>negative</td>\n",
              "    </tr>\n",
              "    <tr>\n",
              "      <th>3</th>\n",
              "      <td>товар не пришел, продавец продлил защиту без м...</td>\n",
              "      <td>negative</td>\n",
              "    </tr>\n",
              "    <tr>\n",
              "      <th>4</th>\n",
              "      <td>Кофточка голая синтетика, носить не возможно.</td>\n",
              "      <td>negative</td>\n",
              "    </tr>\n",
              "  </tbody>\n",
              "</table>\n",
              "</div>"
            ],
            "text/plain": [
              "                                              review sentiment\n",
              "0  качество плохое пошив ужасный (горловина напер...  negative\n",
              "1  Товар отдали другому человеку, я не получила п...  negative\n",
              "2  Ужасная синтетика! Тонкая, ничего общего с пре...  negative\n",
              "3  товар не пришел, продавец продлил защиту без м...  negative\n",
              "4      Кофточка голая синтетика, носить не возможно.  negative"
            ]
          },
          "metadata": {}
        }
      ]
    },
    {
      "cell_type": "markdown",
      "metadata": {
        "id": "sH9Qf2SIs8sB"
      },
      "source": [
        "**Уберем знаки препинания**"
      ]
    },
    {
      "cell_type": "code",
      "metadata": {
        "colab": {
          "base_uri": "https://localhost:8080/",
          "height": 204
        },
        "id": "_f-1o16gtF-2",
        "outputId": "3690ae6f-747c-4580-9505-24bf2f7902a4"
      },
      "source": [
        "def remove_punctuation(sentence):\n",
        "  for ch in string.punctuation:\n",
        "    sentence = sentence.replace(ch,\"\")\n",
        "  return sentence\n",
        "data['review'] = data.apply(lambda row: remove_punctuation(row['review']), axis=1)\n",
        "display(data.head())"
      ],
      "execution_count": null,
      "outputs": [
        {
          "output_type": "display_data",
          "data": {
            "text/html": [
              "<div>\n",
              "<style scoped>\n",
              "    .dataframe tbody tr th:only-of-type {\n",
              "        vertical-align: middle;\n",
              "    }\n",
              "\n",
              "    .dataframe tbody tr th {\n",
              "        vertical-align: top;\n",
              "    }\n",
              "\n",
              "    .dataframe thead th {\n",
              "        text-align: right;\n",
              "    }\n",
              "</style>\n",
              "<table border=\"1\" class=\"dataframe\">\n",
              "  <thead>\n",
              "    <tr style=\"text-align: right;\">\n",
              "      <th></th>\n",
              "      <th>review</th>\n",
              "      <th>sentiment</th>\n",
              "    </tr>\n",
              "  </thead>\n",
              "  <tbody>\n",
              "    <tr>\n",
              "      <th>0</th>\n",
              "      <td>качество плохое пошив ужасный горловина напере...</td>\n",
              "      <td>negative</td>\n",
              "    </tr>\n",
              "    <tr>\n",
              "      <th>1</th>\n",
              "      <td>Товар отдали другому человеку я не получила по...</td>\n",
              "      <td>negative</td>\n",
              "    </tr>\n",
              "    <tr>\n",
              "      <th>2</th>\n",
              "      <td>Ужасная синтетика Тонкая ничего общего с предс...</td>\n",
              "      <td>negative</td>\n",
              "    </tr>\n",
              "    <tr>\n",
              "      <th>3</th>\n",
              "      <td>товар не пришел продавец продлил защиту без мо...</td>\n",
              "      <td>negative</td>\n",
              "    </tr>\n",
              "    <tr>\n",
              "      <th>4</th>\n",
              "      <td>Кофточка голая синтетика носить не возможно</td>\n",
              "      <td>negative</td>\n",
              "    </tr>\n",
              "  </tbody>\n",
              "</table>\n",
              "</div>"
            ],
            "text/plain": [
              "                                              review sentiment\n",
              "0  качество плохое пошив ужасный горловина напере...  negative\n",
              "1  Товар отдали другому человеку я не получила по...  negative\n",
              "2  Ужасная синтетика Тонкая ничего общего с предс...  negative\n",
              "3  товар не пришел продавец продлил защиту без мо...  negative\n",
              "4        Кофточка голая синтетика носить не возможно  negative"
            ]
          },
          "metadata": {}
        }
      ]
    },
    {
      "cell_type": "markdown",
      "metadata": {
        "id": "-S9ujMWgWZqr"
      },
      "source": [
        "**Приведение к нижнему регистру**"
      ]
    },
    {
      "cell_type": "code",
      "metadata": {
        "colab": {
          "base_uri": "https://localhost:8080/",
          "height": 204
        },
        "id": "GyUYwQKWWZDO",
        "outputId": "cf3adb51-30f4-4bde-92e4-1b1898446a37"
      },
      "source": [
        "data['review'] = data.apply(lambda row: row['review'].lower(), axis=1)\n",
        "display(data.head())"
      ],
      "execution_count": null,
      "outputs": [
        {
          "output_type": "display_data",
          "data": {
            "text/html": [
              "<div>\n",
              "<style scoped>\n",
              "    .dataframe tbody tr th:only-of-type {\n",
              "        vertical-align: middle;\n",
              "    }\n",
              "\n",
              "    .dataframe tbody tr th {\n",
              "        vertical-align: top;\n",
              "    }\n",
              "\n",
              "    .dataframe thead th {\n",
              "        text-align: right;\n",
              "    }\n",
              "</style>\n",
              "<table border=\"1\" class=\"dataframe\">\n",
              "  <thead>\n",
              "    <tr style=\"text-align: right;\">\n",
              "      <th></th>\n",
              "      <th>review</th>\n",
              "      <th>sentiment</th>\n",
              "    </tr>\n",
              "  </thead>\n",
              "  <tbody>\n",
              "    <tr>\n",
              "      <th>0</th>\n",
              "      <td>качество плохое пошив ужасный горловина напере...</td>\n",
              "      <td>negative</td>\n",
              "    </tr>\n",
              "    <tr>\n",
              "      <th>1</th>\n",
              "      <td>товар отдали другому человеку я не получила по...</td>\n",
              "      <td>negative</td>\n",
              "    </tr>\n",
              "    <tr>\n",
              "      <th>2</th>\n",
              "      <td>ужасная синтетика тонкая ничего общего с предс...</td>\n",
              "      <td>negative</td>\n",
              "    </tr>\n",
              "    <tr>\n",
              "      <th>3</th>\n",
              "      <td>товар не пришел продавец продлил защиту без мо...</td>\n",
              "      <td>negative</td>\n",
              "    </tr>\n",
              "    <tr>\n",
              "      <th>4</th>\n",
              "      <td>кофточка голая синтетика носить не возможно</td>\n",
              "      <td>negative</td>\n",
              "    </tr>\n",
              "  </tbody>\n",
              "</table>\n",
              "</div>"
            ],
            "text/plain": [
              "                                              review sentiment\n",
              "0  качество плохое пошив ужасный горловина напере...  negative\n",
              "1  товар отдали другому человеку я не получила по...  negative\n",
              "2  ужасная синтетика тонкая ничего общего с предс...  negative\n",
              "3  товар не пришел продавец продлил защиту без мо...  negative\n",
              "4        кофточка голая синтетика носить не возможно  negative"
            ]
          },
          "metadata": {}
        }
      ]
    },
    {
      "cell_type": "markdown",
      "metadata": {
        "id": "XfuxDtSZSXWN"
      },
      "source": [
        "**Токенизация**\n"
      ]
    },
    {
      "cell_type": "code",
      "metadata": {
        "colab": {
          "base_uri": "https://localhost:8080/",
          "height": 204
        },
        "id": "K6rIBgTLScdA",
        "outputId": "1990be5a-c5da-4d88-a67b-b07523fad287"
      },
      "source": [
        "from nltk.tokenize import word_tokenize\n",
        "data['review'] = data.apply(lambda row: word_tokenize(row['review'], language='russian'), axis=1)\n",
        "display(data.head())"
      ],
      "execution_count": null,
      "outputs": [
        {
          "output_type": "display_data",
          "data": {
            "text/html": [
              "<div>\n",
              "<style scoped>\n",
              "    .dataframe tbody tr th:only-of-type {\n",
              "        vertical-align: middle;\n",
              "    }\n",
              "\n",
              "    .dataframe tbody tr th {\n",
              "        vertical-align: top;\n",
              "    }\n",
              "\n",
              "    .dataframe thead th {\n",
              "        text-align: right;\n",
              "    }\n",
              "</style>\n",
              "<table border=\"1\" class=\"dataframe\">\n",
              "  <thead>\n",
              "    <tr style=\"text-align: right;\">\n",
              "      <th></th>\n",
              "      <th>review</th>\n",
              "      <th>sentiment</th>\n",
              "    </tr>\n",
              "  </thead>\n",
              "  <tbody>\n",
              "    <tr>\n",
              "      <th>0</th>\n",
              "      <td>[качество, плохое, пошив, ужасный, горловина, ...</td>\n",
              "      <td>negative</td>\n",
              "    </tr>\n",
              "    <tr>\n",
              "      <th>1</th>\n",
              "      <td>[товар, отдали, другому, человеку, я, не, полу...</td>\n",
              "      <td>negative</td>\n",
              "    </tr>\n",
              "    <tr>\n",
              "      <th>2</th>\n",
              "      <td>[ужасная, синтетика, тонкая, ничего, общего, с...</td>\n",
              "      <td>negative</td>\n",
              "    </tr>\n",
              "    <tr>\n",
              "      <th>3</th>\n",
              "      <td>[товар, не, пришел, продавец, продлил, защиту,...</td>\n",
              "      <td>negative</td>\n",
              "    </tr>\n",
              "    <tr>\n",
              "      <th>4</th>\n",
              "      <td>[кофточка, голая, синтетика, носить, не, возмо...</td>\n",
              "      <td>negative</td>\n",
              "    </tr>\n",
              "  </tbody>\n",
              "</table>\n",
              "</div>"
            ],
            "text/plain": [
              "                                              review sentiment\n",
              "0  [качество, плохое, пошив, ужасный, горловина, ...  negative\n",
              "1  [товар, отдали, другому, человеку, я, не, полу...  negative\n",
              "2  [ужасная, синтетика, тонкая, ничего, общего, с...  negative\n",
              "3  [товар, не, пришел, продавец, продлил, защиту,...  negative\n",
              "4  [кофточка, голая, синтетика, носить, не, возмо...  negative"
            ]
          },
          "metadata": {}
        }
      ]
    },
    {
      "cell_type": "markdown",
      "metadata": {
        "id": "tKoLdfZYY5yQ"
      },
      "source": [
        "**Удаление стоп слов**"
      ]
    },
    {
      "cell_type": "code",
      "metadata": {
        "colab": {
          "base_uri": "https://localhost:8080/",
          "height": 204
        },
        "id": "4u4_UEcnZCnM",
        "outputId": "601420b6-6b08-49b2-d165-efa4d2dd6138"
      },
      "source": [
        "from nltk.corpus import stopwords\n",
        "stop_words = stopwords.words('russian')\n",
        "stop_words.remove('не')\n",
        "def remove_stop_words(sentence):\n",
        "  return [w for w in sentence if not w in stop_words]\n",
        "    \n",
        "data['review'] = data.apply(lambda row: remove_stop_words(row['review']), axis=1)\n",
        "display(data.head())"
      ],
      "execution_count": null,
      "outputs": [
        {
          "output_type": "display_data",
          "data": {
            "text/html": [
              "<div>\n",
              "<style scoped>\n",
              "    .dataframe tbody tr th:only-of-type {\n",
              "        vertical-align: middle;\n",
              "    }\n",
              "\n",
              "    .dataframe tbody tr th {\n",
              "        vertical-align: top;\n",
              "    }\n",
              "\n",
              "    .dataframe thead th {\n",
              "        text-align: right;\n",
              "    }\n",
              "</style>\n",
              "<table border=\"1\" class=\"dataframe\">\n",
              "  <thead>\n",
              "    <tr style=\"text-align: right;\">\n",
              "      <th></th>\n",
              "      <th>review</th>\n",
              "      <th>sentiment</th>\n",
              "    </tr>\n",
              "  </thead>\n",
              "  <tbody>\n",
              "    <tr>\n",
              "      <th>0</th>\n",
              "      <td>[качество, плохое, пошив, ужасный, горловина, ...</td>\n",
              "      <td>negative</td>\n",
              "    </tr>\n",
              "    <tr>\n",
              "      <th>1</th>\n",
              "      <td>[товар, отдали, другому, человеку, не, получил...</td>\n",
              "      <td>negative</td>\n",
              "    </tr>\n",
              "    <tr>\n",
              "      <th>2</th>\n",
              "      <td>[ужасная, синтетика, тонкая, общего, представл...</td>\n",
              "      <td>negative</td>\n",
              "    </tr>\n",
              "    <tr>\n",
              "      <th>3</th>\n",
              "      <td>[товар, не, пришел, продавец, продлил, защиту,...</td>\n",
              "      <td>negative</td>\n",
              "    </tr>\n",
              "    <tr>\n",
              "      <th>4</th>\n",
              "      <td>[кофточка, голая, синтетика, носить, не, возмо...</td>\n",
              "      <td>negative</td>\n",
              "    </tr>\n",
              "  </tbody>\n",
              "</table>\n",
              "</div>"
            ],
            "text/plain": [
              "                                              review sentiment\n",
              "0  [качество, плохое, пошив, ужасный, горловина, ...  negative\n",
              "1  [товар, отдали, другому, человеку, не, получил...  negative\n",
              "2  [ужасная, синтетика, тонкая, общего, представл...  negative\n",
              "3  [товар, не, пришел, продавец, продлил, защиту,...  negative\n",
              "4  [кофточка, голая, синтетика, носить, не, возмо...  negative"
            ]
          },
          "metadata": {}
        }
      ]
    },
    {
      "cell_type": "markdown",
      "metadata": {
        "id": "XE610AxIdX30"
      },
      "source": [
        "**Лемматизация**"
      ]
    },
    {
      "cell_type": "code",
      "metadata": {
        "id": "PL1aU42FgJ5u"
      },
      "source": [
        "%%capture\n",
        "!pip install pymorphy2\n",
        "from pymorphy2 import MorphAnalyzer"
      ],
      "execution_count": null,
      "outputs": []
    },
    {
      "cell_type": "code",
      "metadata": {
        "colab": {
          "base_uri": "https://localhost:8080/"
        },
        "id": "BaDzLJdzg5mT",
        "outputId": "834f2980-31dd-4198-d05b-1721f708be61"
      },
      "source": [
        "# проверка\n",
        "morph = MorphAnalyzer()\n",
        "print(morph.parse('мыши')[0].normal_form)"
      ],
      "execution_count": null,
      "outputs": [
        {
          "output_type": "stream",
          "name": "stdout",
          "text": [
            "мышь\n"
          ]
        }
      ]
    },
    {
      "cell_type": "code",
      "metadata": {
        "colab": {
          "base_uri": "https://localhost:8080/",
          "height": 204
        },
        "id": "K4-w9OMBiSqE",
        "outputId": "a74a4dc2-bd50-4421-9655-569ae93895b0"
      },
      "source": [
        "def lemmatize(sentence):\n",
        "  return [morph.parse(w)[0].normal_form for w in sentence]\n",
        "data['review'] = data.apply(lambda row: lemmatize(row['review']), axis=1)\n",
        "## удаление стоп слов еще раз\n",
        "data['review'] = data.apply(lambda row: remove_stop_words(row['review']), axis=1)\n",
        "display(data.head())"
      ],
      "execution_count": null,
      "outputs": [
        {
          "output_type": "display_data",
          "data": {
            "text/html": [
              "<div>\n",
              "<style scoped>\n",
              "    .dataframe tbody tr th:only-of-type {\n",
              "        vertical-align: middle;\n",
              "    }\n",
              "\n",
              "    .dataframe tbody tr th {\n",
              "        vertical-align: top;\n",
              "    }\n",
              "\n",
              "    .dataframe thead th {\n",
              "        text-align: right;\n",
              "    }\n",
              "</style>\n",
              "<table border=\"1\" class=\"dataframe\">\n",
              "  <thead>\n",
              "    <tr style=\"text-align: right;\">\n",
              "      <th></th>\n",
              "      <th>review</th>\n",
              "      <th>sentiment</th>\n",
              "    </tr>\n",
              "  </thead>\n",
              "  <tbody>\n",
              "    <tr>\n",
              "      <th>0</th>\n",
              "      <td>[качество, плохой, пошив, ужасный, горловина, ...</td>\n",
              "      <td>negative</td>\n",
              "    </tr>\n",
              "    <tr>\n",
              "      <th>1</th>\n",
              "      <td>[товар, отдать, человек, не, получить, посылка...</td>\n",
              "      <td>negative</td>\n",
              "    </tr>\n",
              "    <tr>\n",
              "      <th>2</th>\n",
              "      <td>[ужасный, синтетик, тонкий, общий, представить...</td>\n",
              "      <td>negative</td>\n",
              "    </tr>\n",
              "    <tr>\n",
              "      <th>3</th>\n",
              "      <td>[товар, не, прийти, продавец, продлить, защита...</td>\n",
              "      <td>negative</td>\n",
              "    </tr>\n",
              "    <tr>\n",
              "      <th>4</th>\n",
              "      <td>[кофточка, голый, синтетик, носить, не, возможно]</td>\n",
              "      <td>negative</td>\n",
              "    </tr>\n",
              "  </tbody>\n",
              "</table>\n",
              "</div>"
            ],
            "text/plain": [
              "                                              review sentiment\n",
              "0  [качество, плохой, пошив, ужасный, горловина, ...  negative\n",
              "1  [товар, отдать, человек, не, получить, посылка...  negative\n",
              "2  [ужасный, синтетик, тонкий, общий, представить...  negative\n",
              "3  [товар, не, прийти, продавец, продлить, защита...  negative\n",
              "4  [кофточка, голый, синтетик, носить, не, возможно]  negative"
            ]
          },
          "metadata": {}
        }
      ]
    },
    {
      "cell_type": "code",
      "metadata": {
        "colab": {
          "base_uri": "https://localhost:8080/",
          "height": 204
        },
        "id": "WQHrdCYW58n4",
        "outputId": "debd4209-8bcf-4e3c-c406-cc92a760f311"
      },
      "source": [
        "def convert_to_string(sentence):\n",
        "  return ' '.join(sentence)\n",
        "data['review'] = data.apply(lambda row: convert_to_string(row['review']), axis=1)\n",
        "display(data.head())"
      ],
      "execution_count": null,
      "outputs": [
        {
          "output_type": "display_data",
          "data": {
            "text/html": [
              "<div>\n",
              "<style scoped>\n",
              "    .dataframe tbody tr th:only-of-type {\n",
              "        vertical-align: middle;\n",
              "    }\n",
              "\n",
              "    .dataframe tbody tr th {\n",
              "        vertical-align: top;\n",
              "    }\n",
              "\n",
              "    .dataframe thead th {\n",
              "        text-align: right;\n",
              "    }\n",
              "</style>\n",
              "<table border=\"1\" class=\"dataframe\">\n",
              "  <thead>\n",
              "    <tr style=\"text-align: right;\">\n",
              "      <th></th>\n",
              "      <th>review</th>\n",
              "      <th>sentiment</th>\n",
              "    </tr>\n",
              "  </thead>\n",
              "  <tbody>\n",
              "    <tr>\n",
              "      <th>0</th>\n",
              "      <td>качество плохой пошив ужасный горловина напере...</td>\n",
              "      <td>negative</td>\n",
              "    </tr>\n",
              "    <tr>\n",
              "      <th>1</th>\n",
              "      <td>товар отдать человек не получить посылка ладны...</td>\n",
              "      <td>negative</td>\n",
              "    </tr>\n",
              "    <tr>\n",
              "      <th>2</th>\n",
              "      <td>ужасный синтетик тонкий общий представить карт...</td>\n",
              "      <td>negative</td>\n",
              "    </tr>\n",
              "    <tr>\n",
              "      <th>3</th>\n",
              "      <td>товар не прийти продавец продлить защита согла...</td>\n",
              "      <td>negative</td>\n",
              "    </tr>\n",
              "    <tr>\n",
              "      <th>4</th>\n",
              "      <td>кофточка голый синтетик носить не возможно</td>\n",
              "      <td>negative</td>\n",
              "    </tr>\n",
              "  </tbody>\n",
              "</table>\n",
              "</div>"
            ],
            "text/plain": [
              "                                              review sentiment\n",
              "0  качество плохой пошив ужасный горловина напере...  negative\n",
              "1  товар отдать человек не получить посылка ладны...  negative\n",
              "2  ужасный синтетик тонкий общий представить карт...  negative\n",
              "3  товар не прийти продавец продлить защита согла...  negative\n",
              "4         кофточка голый синтетик носить не возможно  negative"
            ]
          },
          "metadata": {}
        }
      ]
    },
    {
      "cell_type": "markdown",
      "metadata": {
        "id": "IoJsPeH-4Juh"
      },
      "source": [
        "**Векторизация**"
      ]
    },
    {
      "cell_type": "code",
      "metadata": {
        "id": "HhYxGs-R4Bse"
      },
      "source": [
        "from sklearn.feature_extraction.text import CountVectorizer # модель \"мешка слов\"\n",
        "from sklearn.feature_extraction.text import TfidfVectorizer # tf idf векторайзер \n",
        "from sklearn.metrics import accuracy_score\n",
        "from sklearn.pipeline import Pipeline\n",
        "from sklearn.naive_bayes import MultinomialNB # наивный байесовский классификатор\n",
        "from sklearn.model_selection import train_test_split \n",
        "\n",
        "x_train, x_test, y_train, y_test = train_test_split(data.review, data.sentiment, train_size = 0.7)\n"
      ],
      "execution_count": null,
      "outputs": []
    },
    {
      "cell_type": "markdown",
      "metadata": {
        "id": "-JCjJ8sBm2NT"
      },
      "source": [
        "###**Мешок слов (Count vectorizer)**"
      ]
    },
    {
      "cell_type": "code",
      "metadata": {
        "colab": {
          "base_uri": "https://localhost:8080/"
        },
        "id": "1Bhg2-LyyKyw",
        "outputId": "34c791f1-1448-421a-8067-a65348cca6a9"
      },
      "source": [
        "accuracy = 0\n",
        "cv_best_params = 0\n",
        "# мешок слов\n",
        "for ngram_ in [(1,2), (1,3), (1,4), (1,5), (2,2), (2, 3), (2, 4), (2,5), (3,3), (3,4), (3,5), (4, 4), (4,5), (5,5)]:\n",
        "  model = Pipeline([('cv', CountVectorizer(ngram_range = ngram_)), ('classifier',MultinomialNB())])\n",
        "  model.fit(x_train, y_train)\n",
        "  cv_y_predicted = model.predict(x_test)\n",
        "  cur_accuracy = accuracy_score(cv_y_predicted, y_test)\n",
        "  if cur_accuracy > accuracy:\n",
        "    cv_best_params = ngram_\n",
        "    accuracy = cur_accuracy\n",
        "print(\"best accuracy: \", accuracy)\n",
        "print(\"best params: \", cv_best_params)\n",
        "\n",
        "model = Pipeline([('cv', CountVectorizer(ngram_range = cv_best_params)), ('classifier',MultinomialNB())])\n",
        "model.fit(x_train, y_train)\n",
        "count_vectorizer_y_predicted = model.predict(x_test)"
      ],
      "execution_count": null,
      "outputs": [
        {
          "output_type": "stream",
          "name": "stdout",
          "text": [
            "best accuracy:  0.7244176141624384\n",
            "best params:  (1, 5)\n"
          ]
        }
      ]
    },
    {
      "cell_type": "markdown",
      "metadata": {
        "id": "SCkDnHO2nBU4"
      },
      "source": [
        "##**tf-idf TfIdfVectorizer**"
      ]
    },
    {
      "cell_type": "code",
      "metadata": {
        "colab": {
          "base_uri": "https://localhost:8080/"
        },
        "id": "Tf1EJzwE0DJS",
        "outputId": "a00244de-d712-4e37-a42e-e73978136767"
      },
      "source": [
        "# tf-idf\n",
        "accuracy = 0\n",
        "tf_idf_best_params = {}\n",
        "for ngram_ in [(1,2), (1,3), (1,4), (1,5), (2,2), (2, 3)]:\n",
        "  for min_df in [0, 0.01]:\n",
        "    for max_df in [0.1,0.5, 0.7,]:\n",
        "      for max_features in [None, 1_000, 10_000]:\n",
        "        model = Pipeline([('tf_idf', TfidfVectorizer(ngram_range = ngram_, min_df=min_df, max_df=max_df, max_features=max_features)),\n",
        "                          ('classifier',MultinomialNB())])\n",
        "        model.fit(x_train, y_train)\n",
        "        tf_idf_y_predicted = model.predict(x_test)\n",
        "        cur_accuracy = accuracy_score(tf_idf_y_predicted, y_test)\n",
        "        if cur_accuracy > accuracy:\n",
        "          tf_idf_best_params = {'ngram_': ngram_, 'min_df': min_df, 'max_df': max_df, 'max_features': max_features}\n",
        "          accuracy = cur_accuracy\n",
        "print(\"best accuracy: \", accuracy)\n",
        "print(\"best params: \", tf_idf_best_params)\n",
        "\n",
        "model = Pipeline([('tf_idf', TfidfVectorizer(ngram_range = tf_idf_best_params['ngram_'], min_df=tf_idf_best_params['min_df'],\n",
        "                  max_df=tf_idf_best_params['max_df'], max_features=tf_idf_best_params['max_features'])),('classifier',MultinomialNB())])\n",
        "model.fit(x_train, y_train)\n",
        "tf_idf_y_predicted = model.predict(x_test)"
      ],
      "execution_count": null,
      "outputs": [
        {
          "output_type": "stream",
          "name": "stdout",
          "text": [
            "best accuracy:  0.7248250064812415\n",
            "best params:  {'ngram_': (1, 3), 'min_df': 0, 'max_df': 0.5, 'max_features': None}\n"
          ]
        }
      ]
    },
    {
      "cell_type": "markdown",
      "metadata": {
        "id": "DrhvgbCmeJKm"
      },
      "source": [
        "##**Символьные n-граммы**\n",
        "нижней границей для ngram_range будет 3 символа так как наборы из 2 и 1 символа точно не представляют смыловую нагрузку \\\n",
        "а в качестве верхней границы можно взять среднее количество символов в  униграммах и биграммах"
      ]
    },
    {
      "cell_type": "code",
      "metadata": {
        "colab": {
          "base_uri": "https://localhost:8080/"
        },
        "id": "zJb7Vsa3KbWu",
        "outputId": "fe549fb0-5630-43ad-872b-2a9e85ee614d"
      },
      "source": [
        "# поиск средней длины  униграм и биграм\n",
        "from nltk import ngrams\n",
        "def unigram_len_mean_in_review(sentence):\n",
        "  return np.mean([len(str(w[0])) for w in list(ngrams(sentence.split(), 1))]) if sentence!='' else 0\n",
        "\n",
        "unigram_means = data.apply(lambda row: unigram_len_mean_in_review(row['review']), axis=1)\n",
        "print(np.mean(unigram_means))\n",
        "\n",
        "def bigram_len_mean_in_review(sentence):\n",
        "  return np.mean([len(str(w[0]+w[1])) for w in list(ngrams(sentence.split(), 2))]) if sentence!='' else 0\n",
        "\n",
        "bigram_means = data.apply(lambda row: bigram_len_mean_in_review(row['review']), axis=1)\n",
        "print(np.mean(bigram_means))"
      ],
      "execution_count": null,
      "outputs": [
        {
          "output_type": "stream",
          "name": "stdout",
          "text": [
            "6.422474172108056\n"
          ]
        },
        {
          "output_type": "stream",
          "name": "stderr",
          "text": [
            "/usr/local/lib/python3.7/dist-packages/numpy/core/fromnumeric.py:3373: RuntimeWarning: Mean of empty slice.\n",
            "  out=out, **kwargs)\n",
            "/usr/local/lib/python3.7/dist-packages/numpy/core/_methods.py:170: RuntimeWarning: invalid value encountered in double_scalars\n",
            "  ret = ret.dtype.type(ret / rcount)\n"
          ]
        },
        {
          "output_type": "stream",
          "name": "stdout",
          "text": [
            "12.765217341372786\n"
          ]
        }
      ]
    },
    {
      "cell_type": "code",
      "metadata": {
        "colab": {
          "base_uri": "https://localhost:8080/"
        },
        "id": "MPV6Mlpel0-a",
        "outputId": "d564d2a6-d184-479a-cb67-3f5251ce2a76"
      },
      "source": [
        "# char ngrams\n",
        "model = Pipeline([('char_ngrams', CountVectorizer(analyzer='char', ngram_range = (3, 7))),\n",
        "                  ('classifier',MultinomialNB())])\n",
        "model.fit(x_train, y_train)\n",
        "char_ngrams_y_predicted = model.predict(x_test)\n",
        "print(accuracy_score(char_ngrams_y_predicted, y_test))\n",
        "\n",
        "model = Pipeline([('char_ngrams', CountVectorizer(analyzer='char', ngram_range = (3, 14))),\n",
        "                  ('classifier',MultinomialNB())])\n",
        "model.fit(x_train, y_train)\n",
        "char_ngrams_y_predicted = model.predict(x_test)\n",
        "print(accuracy_score(char_ngrams_y_predicted, y_test))"
      ],
      "execution_count": null,
      "outputs": [
        {
          "output_type": "stream",
          "name": "stdout",
          "text": [
            "0.7128254509092256\n",
            "0.7258990407762675\n"
          ]
        }
      ]
    },
    {
      "cell_type": "markdown",
      "metadata": {
        "id": "bL2TEpQXngz9"
      },
      "source": [
        "###**Сравнение моделей по метрикам качества**"
      ]
    },
    {
      "cell_type": "code",
      "metadata": {
        "colab": {
          "base_uri": "https://localhost:8080/",
          "height": 142
        },
        "id": "j09ZGlUkS9cp",
        "outputId": "54a3e068-9c75-470c-c038-f99f16e43222"
      },
      "source": [
        "from sklearn.metrics import  precision_score, recall_score, f1_score, accuracy_score\n",
        "def report(y_predicted, y_test):\n",
        "  presicion = precision_score(y_predicted, y_test, average='macro')\n",
        "  recall = recall_score(y_predicted, y_test, average='macro')\n",
        "  f1 = f1_score(y_predicted, y_test, average='macro')\n",
        "  accuracy = accuracy_score(y_predicted, y_test)\n",
        "  return (presicion, recall, f1, accuracy)\n",
        "\n",
        "count_vectorizer = [v for v in report(count_vectorizer_y_predicted, y_test)]\n",
        "tf_idf = [v for v in report(tf_idf_y_predicted, y_test)]\n",
        "ngrams = [ v for v in report(char_ngrams_y_predicted, y_test)]\n",
        "data_ = {\"count_vectorizer\": count_vectorizer, 'tf_idf':tf_idf, 'ngrams': ngrams}\n",
        "report_ = pd.DataFrame(data_, index=['presicion','recall','f1-score', 'accuracy']).T\n",
        "display(report_)"
      ],
      "execution_count": null,
      "outputs": [
        {
          "output_type": "display_data",
          "data": {
            "text/html": [
              "<div>\n",
              "<style scoped>\n",
              "    .dataframe tbody tr th:only-of-type {\n",
              "        vertical-align: middle;\n",
              "    }\n",
              "\n",
              "    .dataframe tbody tr th {\n",
              "        vertical-align: top;\n",
              "    }\n",
              "\n",
              "    .dataframe thead th {\n",
              "        text-align: right;\n",
              "    }\n",
              "</style>\n",
              "<table border=\"1\" class=\"dataframe\">\n",
              "  <thead>\n",
              "    <tr style=\"text-align: right;\">\n",
              "      <th></th>\n",
              "      <th>presicion</th>\n",
              "      <th>recall</th>\n",
              "      <th>f1-score</th>\n",
              "      <th>accuracy</th>\n",
              "    </tr>\n",
              "  </thead>\n",
              "  <tbody>\n",
              "    <tr>\n",
              "      <th>count_vectorizer</th>\n",
              "      <td>0.724378</td>\n",
              "      <td>0.728062</td>\n",
              "      <td>0.725953</td>\n",
              "      <td>0.724418</td>\n",
              "    </tr>\n",
              "    <tr>\n",
              "      <th>tf_idf</th>\n",
              "      <td>0.724943</td>\n",
              "      <td>0.730436</td>\n",
              "      <td>0.726429</td>\n",
              "      <td>0.724825</td>\n",
              "    </tr>\n",
              "    <tr>\n",
              "      <th>ngrams</th>\n",
              "      <td>0.725993</td>\n",
              "      <td>0.731291</td>\n",
              "      <td>0.727614</td>\n",
              "      <td>0.725899</td>\n",
              "    </tr>\n",
              "  </tbody>\n",
              "</table>\n",
              "</div>"
            ],
            "text/plain": [
              "                  presicion    recall  f1-score  accuracy\n",
              "count_vectorizer   0.724378  0.728062  0.725953  0.724418\n",
              "tf_idf             0.724943  0.730436  0.726429  0.724825\n",
              "ngrams             0.725993  0.731291  0.727614  0.725899"
            ]
          },
          "metadata": {}
        }
      ]
    },
    {
      "cell_type": "markdown",
      "metadata": {
        "id": "5QYTwyMtWhAZ"
      },
      "source": [
        "## Задание 5.2 Регулярные выражения\n",
        "\n",
        "Регулярные выражения - способ поиска и анализа строк. Например, можно понять, какие даты в наборе строк представлены в формате DD/MM/YYYY, а какие - в других форматах. \n",
        "\n",
        "Или бывает, например, что перед работой с текстом, надо почистить его от своеобразного мусора: упоминаний пользователей, url и так далее.\n",
        "\n",
        "Навык полезный, давайте в нём тоже потренируемся.\n",
        "\n",
        "Для работы с регулярными выражениями есть библиотека **re**"
      ]
    },
    {
      "cell_type": "code",
      "metadata": {
        "id": "VaUW5S4gWhAb"
      },
      "source": [
        "import re"
      ],
      "execution_count": null,
      "outputs": []
    },
    {
      "cell_type": "markdown",
      "metadata": {
        "id": "D6aYh7Osl8xr"
      },
      "source": [
        "В регулярных выражениях, кроме привычных символов-букв, есть специальные символы:\n",
        "* **?а** - ноль или один символ **а**\n",
        "* **+а** - один или более символов **а**\n",
        "* **\\*а** - ноль или более символов **а** (не путать с +)\n",
        "* **.** - любое количество любого символа\n",
        "\n",
        "Пример:\n",
        "Выражению \\*a?b. соответствуют последовательности a, ab, abc, aa, aac НО НЕ abb!"
      ]
    },
    {
      "cell_type": "markdown",
      "metadata": {
        "id": "q7zOFFA3l_KQ"
      },
      "source": [
        "Рассмотрим подробно несколько наиболее полезных функций:"
      ]
    },
    {
      "cell_type": "markdown",
      "metadata": {
        "id": "DbJrUpARWhAd"
      },
      "source": [
        "### findall\n",
        "возвращает список всех найденных непересекающихся совпадений.\n",
        "\n",
        "Регулярное выражение **ab+c.**: \n",
        "* **a** - просто символ **a**\n",
        "* **b+** - один или более символов **b**\n",
        "* **c** - просто символ **c**\n",
        "* **.** - любой символ\n"
      ]
    },
    {
      "cell_type": "code",
      "metadata": {
        "id": "2athHzKuWhAd",
        "colab": {
          "base_uri": "https://localhost:8080/"
        },
        "outputId": "8a40be70-ec3e-4714-bcd1-5a0ecc300bb2"
      },
      "source": [
        "result = re.findall('ab+c.', 'abcdefghijkabcabcxabc') \n",
        "print(result)"
      ],
      "execution_count": null,
      "outputs": [
        {
          "output_type": "stream",
          "name": "stdout",
          "text": [
            "['abcd', 'abca']\n"
          ]
        }
      ]
    },
    {
      "cell_type": "markdown",
      "metadata": {
        "id": "A9FpIw5RWhAf"
      },
      "source": [
        "Вопрос на внимательность: почему нет abcx? \\\n",
        "так как совпадения abca abcx пересекаются "
      ]
    },
    {
      "cell_type": "markdown",
      "metadata": {
        "id": "B5ttzoxEWhAg"
      },
      "source": [
        "**Задание**: вернуть список первых двух букв каждого слова в строке, состоящей из нескольких слов."
      ]
    },
    {
      "cell_type": "code",
      "metadata": {
        "id": "7ZR2AEq3WhAg",
        "colab": {
          "base_uri": "https://localhost:8080/"
        },
        "outputId": "f83881c4-3159-4dae-9be1-cd0296f9fe47"
      },
      "source": [
        "sentence = \"some string with a lot of words\"\n",
        "sentence = re.split(' ', sentence)\n",
        "result = [re.findall('^\\w\\w', w) for w in sentence]\n",
        "result = [w[0] for w in result if w]\n",
        "print(result)"
      ],
      "execution_count": null,
      "outputs": [
        {
          "output_type": "stream",
          "name": "stdout",
          "text": [
            "['so', 'st', 'wi', 'lo', 'of', 'wo']\n"
          ]
        }
      ]
    },
    {
      "cell_type": "markdown",
      "metadata": {
        "id": "MI18l-l9WhAk"
      },
      "source": [
        "### split\n",
        "разделяет строку по заданному шаблону\n"
      ]
    },
    {
      "cell_type": "code",
      "metadata": {
        "id": "sVKdRoc1WhAl",
        "colab": {
          "base_uri": "https://localhost:8080/"
        },
        "outputId": "dc53ff49-e977-47ce-e810-bed6c4dd22a2"
      },
      "source": [
        "result = re.split(',', 'itsy, bitsy, teenie, weenie') \n",
        "print(result)"
      ],
      "execution_count": null,
      "outputs": [
        {
          "output_type": "stream",
          "name": "stdout",
          "text": [
            "['itsy', ' bitsy', ' teenie', ' weenie']\n"
          ]
        }
      ]
    },
    {
      "cell_type": "markdown",
      "metadata": {
        "id": "10u5efuSWhAm"
      },
      "source": [
        "можно указать максимальное количество разбиений"
      ]
    },
    {
      "cell_type": "code",
      "metadata": {
        "id": "9U9EQZMwWhAn",
        "colab": {
          "base_uri": "https://localhost:8080/"
        },
        "outputId": "7c28d876-b632-4799-fdfd-7184381fc3db"
      },
      "source": [
        "result = re.split(',', 'itsy, bitsy, teenie, weenie', maxsplit=2) \n",
        "print(result)"
      ],
      "execution_count": null,
      "outputs": [
        {
          "output_type": "stream",
          "name": "stdout",
          "text": [
            "['itsy', ' bitsy', ' teenie, weenie']\n"
          ]
        }
      ]
    },
    {
      "cell_type": "markdown",
      "metadata": {
        "id": "0EMcMyflWhAp"
      },
      "source": [
        "**Задание**: разбейте строку, состоящую из нескольких предложений, по точкам, но не более чем на 3 предложения."
      ]
    },
    {
      "cell_type": "code",
      "metadata": {
        "id": "dVgPSjEOWhAp",
        "colab": {
          "base_uri": "https://localhost:8080/"
        },
        "outputId": "b6e0538c-efdb-43ff-bfe0-5ba70468a8a9"
      },
      "source": [
        "sentence = 'мама не мыла раму. а может и мыла. а может и нет . а кто его знает. Никто не уверен'\n",
        "result = re.split('\\.', sentence, maxsplit=2)\n",
        "print(result)"
      ],
      "execution_count": null,
      "outputs": [
        {
          "output_type": "stream",
          "name": "stdout",
          "text": [
            "['мама не мыла раму', ' а может и мыла', ' а может и нет . а кто его знает. Никто не уверен']\n"
          ]
        }
      ]
    },
    {
      "cell_type": "markdown",
      "metadata": {
        "id": "1wrEGqBSWhAr"
      },
      "source": [
        "### sub\n",
        "ищет шаблон в строке и заменяет все совпадения на указанную подстроку\n",
        "\n",
        "параметры: (pattern, repl, string)"
      ]
    },
    {
      "cell_type": "code",
      "metadata": {
        "id": "az3KxKWwWhAr",
        "colab": {
          "base_uri": "https://localhost:8080/"
        },
        "outputId": "c6485217-4f9a-49da-a560-fec27db983a4"
      },
      "source": [
        "result = re.sub('a', 'b', 'abcabc')\n",
        "print (result)"
      ],
      "execution_count": null,
      "outputs": [
        {
          "output_type": "stream",
          "name": "stdout",
          "text": [
            "bbcbbc\n"
          ]
        }
      ]
    },
    {
      "cell_type": "markdown",
      "metadata": {
        "id": "qD0n7_HPWhAt"
      },
      "source": [
        "**Задание**: напишите регулярное выражение, которое позволит заменить все цифры в строке на \"DIG\"."
      ]
    },
    {
      "cell_type": "code",
      "metadata": {
        "id": "s_Sdu7xlWhAu",
        "colab": {
          "base_uri": "https://localhost:8080/"
        },
        "outputId": "8f7ae300-8a5a-4c2c-c88e-9b9e245431ae"
      },
      "source": [
        "sentence = 'sdklfngsdlag8w8 htui34u uitht230 tp4h2tu3 j4j'\n",
        "result = re.sub('[0-9]','DIG', sentence )\n",
        "print(result)"
      ],
      "execution_count": null,
      "outputs": [
        {
          "output_type": "stream",
          "name": "stdout",
          "text": [
            "sdklfngsdlagDIGwDIG htuiDIGDIGu uithtDIGDIGDIG tpDIGhDIGtuDIG jDIGj\n"
          ]
        }
      ]
    },
    {
      "cell_type": "markdown",
      "metadata": {
        "id": "b8__oi1PWhAv"
      },
      "source": [
        "**Задание**: напишите  регулярное выражение, которое позволит убрать url из строки."
      ]
    },
    {
      "cell_type": "code",
      "metadata": {
        "id": "KwNS9zt4WhAv",
        "colab": {
          "base_uri": "https://localhost:8080/"
        },
        "outputId": "f87c410d-17b5-4e7e-cee0-60a87165c55c"
      },
      "source": [
        "sentence = 'http://colab.research.google.com/drive/1Y2L90BskeWB9AEHmHyHiPJjm6PTc7IjF#scrollTo=KwNS9zt4WhAv some info https://www.youtube.com/playlist?list=PL4SWw1noBwCQxh-dk3WK3eYDH-ZOcMsWR'\n",
        "result = re.sub('https?://\\\\S+', '', sentence)\n",
        "print(result)"
      ],
      "execution_count": null,
      "outputs": [
        {
          "output_type": "stream",
          "name": "stdout",
          "text": [
            " some info \n"
          ]
        }
      ]
    },
    {
      "cell_type": "markdown",
      "metadata": {
        "id": "gStgBJy2WhAx"
      },
      "source": [
        "### compile\n",
        "компилирует регулярное выражение в отдельный объект"
      ]
    },
    {
      "cell_type": "code",
      "metadata": {
        "id": "JstTupisWhAy",
        "colab": {
          "base_uri": "https://localhost:8080/"
        },
        "outputId": "38ad7f25-d0ba-4219-fde5-b82a4fefa415"
      },
      "source": [
        "# Пример: построение списка всех слов строки:\n",
        "prog = re.compile('[А-Яа-яё\\-]+')\n",
        "prog.findall(\"Слова? Да, больше, ещё больше слов! Что-то ещё.\")"
      ],
      "execution_count": null,
      "outputs": [
        {
          "output_type": "execute_result",
          "data": {
            "text/plain": [
              "['Слова', 'Да', 'больше', 'ещё', 'больше', 'слов', 'Что-то', 'ещё']"
            ]
          },
          "metadata": {},
          "execution_count": 26
        }
      ]
    },
    {
      "cell_type": "markdown",
      "metadata": {
        "id": "WXEXc3G0WhA2"
      },
      "source": [
        "**Задание**: для выбранной строки постройте список слов, которые длиннее трех символов."
      ]
    },
    {
      "cell_type": "code",
      "metadata": {
        "id": "nFvnIWbUWhA2",
        "colab": {
          "base_uri": "https://localhost:8080/"
        },
        "outputId": "149e05a1-ff39-4f1d-feb0-8a618c3f34a4"
      },
      "source": [
        "prog = re.compile('(?<!\\w)\\w{4,}(?!\\w)')\n",
        "prog.findall('344 sdfs  skkfs kkk khhhsdkfg kiiw4 kkk3 23 4 424  jtgn3j iii')"
      ],
      "execution_count": null,
      "outputs": [
        {
          "output_type": "execute_result",
          "data": {
            "text/plain": [
              "['sdfs', 'skkfs', 'khhhsdkfg', 'kiiw4', 'kkk3', 'jtgn3j']"
            ]
          },
          "metadata": {},
          "execution_count": 27
        }
      ]
    },
    {
      "cell_type": "markdown",
      "metadata": {
        "id": "SQDNZ3HQWhA3"
      },
      "source": [
        "**Задание**: вернуть список доменов (@gmail.com) из списка адресов электронной почты:\n",
        "\n",
        "```\n",
        "abc.test@gmail.com, xyz@test.in, test.first@analyticsvidhya.com, first.test@rest.biz\n",
        "```"
      ]
    },
    {
      "cell_type": "code",
      "metadata": {
        "colab": {
          "base_uri": "https://localhost:8080/"
        },
        "id": "PvZGbMLlIPOQ",
        "outputId": "39089fd8-fff7-4d1f-8395-3587b1a020d1"
      },
      "source": [
        "sentence = (\"abc.test@gmail.com\", \"xyz@test.in\", \"test.first@analyticsvidhya.com\", \"first.test@rest.biz\")\n",
        "prog = re.compile('@[\\w\\.-]+')\n",
        "print(list(prog.findall(s) for s in sentence))"
      ],
      "execution_count": null,
      "outputs": [
        {
          "output_type": "stream",
          "name": "stdout",
          "text": [
            "[['@gmail.com'], ['@test.in'], ['@analyticsvidhya.com'], ['@rest.biz']]\n"
          ]
        }
      ]
    }
  ]
}